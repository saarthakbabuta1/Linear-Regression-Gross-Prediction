{
 "cells": [
  {
   "cell_type": "code",
   "execution_count": 1,
   "metadata": {},
   "outputs": [],
   "source": [
    "import pandas as pd\n",
    "import numpy as np\n",
    "import matplotlib.pyplot as plt\n",
    "from itertools import chain\n",
    "import re"
   ]
  },
  {
   "cell_type": "code",
   "execution_count": 2,
   "metadata": {},
   "outputs": [],
   "source": [
    "df=pd.read_csv(\"movies.csv\")"
   ]
  },
  {
   "cell_type": "code",
   "execution_count": 3,
   "metadata": {},
   "outputs": [
    {
     "name": "stdout",
     "output_type": "stream",
     "text": [
      "(40789, 40)\n",
      "   Unnamed: 0              Title  Year      Rated    Released  Runtime  \\\n",
      "0           1  39 Pounds of Love  2005    UNRATED  2005-04-08   70 min   \n",
      "1           2               3:am  2005  NOT RATED  2005-01-25   21 min   \n",
      "2           3    500 Years Later  2005        NaN  2005-02-24  106 min   \n",
      "3           4          5th World  2005        NaN  2005-01-20   75 min   \n",
      "4           5                 90  2005        NaN  2005-03-12   14 min   \n",
      "\n",
      "                             Genre            Director  \\\n",
      "0  Documentary, Biography, Romance         Dani Menkin   \n",
      "1                  Short, Thriller       Ryan Bradford   \n",
      "2                      Documentary  Owen Alik Shahadah   \n",
      "3                   Drama, Romance     Blackhorse Lowe   \n",
      "4                       War, Short          Jason Wise   \n",
      "\n",
      "                         Writer  \\\n",
      "0     Ilan Heitner, Dani Menkin   \n",
      "1  Ryan Bradford, Ryen Schlegel   \n",
      "2                   M.K. Asante   \n",
      "3               Blackhorse Lowe   \n",
      "4                    Jason Wise   \n",
      "\n",
      "                                              Actors ...   \\\n",
      "0                                     Ami Ankilewitz ...    \n",
      "1  Mike Ashworth, Jen Badewitz, Ryan Bradford, Se... ...    \n",
      "2  Kolfi Adu, Sona Jobarteh, Hunter Adams III, Ha... ...    \n",
      "3  Livandrea Knoki, Sheldon Silentwalker, Ernest ... ...    \n",
      "4  Bryan Barnett-Woods, Oto Brezina, Mike Dunn, E... ...    \n",
      "\n",
      "                                           tomatoURL         DVD BoxOffice  \\\n",
      "0  http://www.rottentomatoes.com/m/1175966-color_...  2007-05-29       NaN   \n",
      "1                                                NaN         NaN       NaN   \n",
      "2   http://www.rottentomatoes.com/m/500_years_later/  2008-01-08       NaN   \n",
      "3  http://www.rottentomatoes.com/m/world_poker_5t...  2006-10-31       NaN   \n",
      "4                                                NaN         NaN       NaN   \n",
      "\n",
      "     Production                                            Website  Response  \\\n",
      "0           NaN                                                NaN      True   \n",
      "1           NaN                                                NaN      True   \n",
      "2  Codeblack TV                      http://www.500yearslater.com/      True   \n",
      "3           NaN  http://www.variety.com/review/VE1117926147.htm...      True   \n",
      "4           NaN                                                NaN      True   \n",
      "\n",
      "   Budget  Domestic_Gross Gross Date  \n",
      "0     NaN             NaN   NaN  NaN  \n",
      "1     NaN             NaN   NaN  NaN  \n",
      "2     NaN             NaN   NaN  NaN  \n",
      "3     NaN             NaN   NaN  NaN  \n",
      "4     NaN             NaN   NaN  NaN  \n",
      "\n",
      "[5 rows x 40 columns]\n"
     ]
    }
   ],
   "source": [
    "print(df.shape)\n",
    "print(df.head())"
   ]
  },
  {
   "cell_type": "code",
   "execution_count": 4,
   "metadata": {},
   "outputs": [
    {
     "name": "stdout",
     "output_type": "stream",
     "text": [
      "          Unnamed: 0          Year    Metascore    imdbRating     imdbVotes  \\\n",
      "count   40789.000000  40789.000000  5210.000000  39535.000000  3.949700e+04   \n",
      "mean    25116.814877   1980.954963    54.784261      6.252146  1.205867e+04   \n",
      "std     24214.945395     25.020166    18.049470      1.207422  5.702163e+04   \n",
      "min         1.000000   1888.000000     1.000000      1.000000  5.000000e+00   \n",
      "25%     10414.000000   1962.000000    42.000000      5.600000  6.100000e+01   \n",
      "50%     20691.000000   1989.000000    55.000000      6.400000  2.140000e+02   \n",
      "75%     31696.000000   2001.000000    68.000000      7.100000  1.343000e+03   \n",
      "max    112382.000000   2018.000000   100.000000      9.800000  1.684836e+06   \n",
      "\n",
      "       tomatoMeter  tomatoRating  tomatoReviews  tomatoFresh  tomatoRotten  \\\n",
      "count  9458.000000   9448.000000    9502.000000  9502.000000   9502.000000   \n",
      "mean     58.579192      5.874968      57.375289    34.281309     23.093980   \n",
      "std      28.856973      1.527928      63.167701    46.668462     30.997875   \n",
      "min       0.000000      0.000000       1.000000     0.000000      0.000000   \n",
      "25%      35.000000      4.800000      11.000000     5.000000      3.000000   \n",
      "50%      63.000000      6.000000      28.000000    15.000000      9.000000   \n",
      "75%      83.000000      7.000000      87.000000    43.000000     30.000000   \n",
      "max     100.000000      9.800000     360.000000   343.000000    249.000000   \n",
      "\n",
      "       tomatoUserMeter  tomatoUserRating  tomatoUserReviews        Budget  \\\n",
      "count     18097.000000      18181.000000       2.407100e+04  4.583000e+03   \n",
      "mean         55.542742          3.264760       9.270171e+04  3.178640e+07   \n",
      "std          23.521943          0.558422       1.425632e+06  4.060028e+07   \n",
      "min           0.000000          0.000000       0.000000e+00  1.100000e+03   \n",
      "25%          38.000000          2.900000       4.700000e+01  5.000000e+06   \n",
      "50%          57.000000          3.300000       3.420000e+02  1.800000e+07   \n",
      "75%          75.000000          3.600000       4.935000e+03  4.000000e+07   \n",
      "max         100.000000          5.000000       3.579456e+07  4.250000e+08   \n",
      "\n",
      "       Domestic_Gross         Gross         Date  \n",
      "count    4.583000e+03  4.583000e+03  4583.000000  \n",
      "mean     4.263995e+07  9.029135e+07  2002.823696  \n",
      "std      6.460616e+07  1.669594e+08    12.044254  \n",
      "min      0.000000e+00  0.000000e+00  1915.000000  \n",
      "25%      2.198847e+06  4.670743e+06  1999.000000  \n",
      "50%      1.906824e+07  2.927690e+07  2005.000000  \n",
      "75%      5.472205e+07  1.003587e+08  2011.000000  \n",
      "max      7.605076e+08  2.783919e+09  2017.000000  \n"
     ]
    }
   ],
   "source": [
    "print(df.describe())"
   ]
  },
  {
   "cell_type": "code",
   "execution_count": 5,
   "metadata": {},
   "outputs": [
    {
     "data": {
      "text/plain": [
       "movie     40000\n",
       "series      725\n",
       "game         64\n",
       "Name: Type, dtype: int64"
      ]
     },
     "execution_count": 5,
     "metadata": {},
     "output_type": "execute_result"
    }
   ],
   "source": [
    "df['Type'].value_counts()"
   ]
  },
  {
   "cell_type": "code",
   "execution_count": 6,
   "metadata": {},
   "outputs": [],
   "source": [
    "movies=df[df['Type']==\"movie\"]"
   ]
  },
  {
   "cell_type": "code",
   "execution_count": 7,
   "metadata": {},
   "outputs": [
    {
     "name": "stdout",
     "output_type": "stream",
     "text": [
      "986\n",
      "0\n"
     ]
    },
    {
     "name": "stderr",
     "output_type": "stream",
     "text": [
      "/Users/saarthak/anaconda3/lib/python3.6/site-packages/pandas/core/generic.py:5434: SettingWithCopyWarning: \n",
      "A value is trying to be set on a copy of a slice from a DataFrame\n",
      "\n",
      "See the caveats in the documentation: http://pandas.pydata.org/pandas-docs/stable/indexing.html#indexing-view-versus-copy\n",
      "  self._update_inplace(new_data)\n"
     ]
    }
   ],
   "source": [
    "print(sum(movies['Genre'].isnull()))\n",
    "movies['Genre'].fillna('Drama',inplace=True)\n",
    "print(sum(movies['Genre'].isnull()))"
   ]
  },
  {
   "cell_type": "code",
   "execution_count": 8,
   "metadata": {},
   "outputs": [
    {
     "data": {
      "text/plain": [
       "(40000, 40)"
      ]
     },
     "execution_count": 8,
     "metadata": {},
     "output_type": "execute_result"
    }
   ],
   "source": [
    "movies.shape"
   ]
  },
  {
   "cell_type": "markdown",
   "metadata": {},
   "source": [
    "# Get Minutes "
   ]
  },
  {
   "cell_type": "code",
   "execution_count": 9,
   "metadata": {},
   "outputs": [],
   "source": [
    "import re\n",
    "def get_minutes(x):\n",
    "    x=str(x)\n",
    "    m=float('nan')\n",
    "    m=re.match(r\"(\\d+)\\s+h+(\\d+)\\s+m\\w+\",x)\n",
    "    if m is not None:\n",
    "        m=float(m.groups()[0]*60+m.groups()[1])\n",
    "    m=re.match(r\"(\\d+)\\s+m\\w+\",x)\n",
    "    if m is not None:\n",
    "        m=float(m.groups()[0])\n",
    "    return m"
   ]
  },
  {
   "cell_type": "code",
   "execution_count": 10,
   "metadata": {},
   "outputs": [
    {
     "name": "stderr",
     "output_type": "stream",
     "text": [
      "/Users/saarthak/anaconda3/lib/python3.6/site-packages/ipykernel_launcher.py:1: SettingWithCopyWarning: \n",
      "A value is trying to be set on a copy of a slice from a DataFrame.\n",
      "Try using .loc[row_indexer,col_indexer] = value instead\n",
      "\n",
      "See the caveats in the documentation: http://pandas.pydata.org/pandas-docs/stable/indexing.html#indexing-view-versus-copy\n",
      "  \"\"\"Entry point for launching an IPython kernel.\n"
     ]
    }
   ],
   "source": [
    "movies['Runtime']=list(map(get_minutes,movies['Runtime']))"
   ]
  },
  {
   "cell_type": "markdown",
   "metadata": {},
   "source": [
    "# Histogram"
   ]
  },
  {
   "cell_type": "code",
   "execution_count": 11,
   "metadata": {},
   "outputs": [
    {
     "name": "stdout",
     "output_type": "stream",
     "text": [
      "902\n",
      "0\n"
     ]
    },
    {
     "name": "stderr",
     "output_type": "stream",
     "text": [
      "/Users/saarthak/anaconda3/lib/python3.6/site-packages/pandas/core/generic.py:5434: SettingWithCopyWarning: \n",
      "A value is trying to be set on a copy of a slice from a DataFrame\n",
      "\n",
      "See the caveats in the documentation: http://pandas.pydata.org/pandas-docs/stable/indexing.html#indexing-view-versus-copy\n",
      "  self._update_inplace(new_data)\n"
     ]
    }
   ],
   "source": [
    "print(sum(movies['Runtime'].isnull()))\n",
    "movies['Runtime'].fillna(np.mean(movies['Runtime']),inplace=True)\n",
    "print(sum(movies['Runtime'].isnull()))"
   ]
  },
  {
   "cell_type": "code",
   "execution_count": 12,
   "metadata": {},
   "outputs": [
    {
     "data": {
      "text/plain": [
       "count    40000.000000\n",
       "mean        81.748632\n",
       "std         37.886912\n",
       "min          1.000000\n",
       "25%         72.000000\n",
       "50%         90.000000\n",
       "75%        100.000000\n",
       "max        873.000000\n",
       "Name: Runtime, dtype: float64"
      ]
     },
     "execution_count": 12,
     "metadata": {},
     "output_type": "execute_result"
    }
   ],
   "source": [
    "movies['Runtime'].describe()"
   ]
  },
  {
   "cell_type": "code",
   "execution_count": 13,
   "metadata": {},
   "outputs": [
    {
     "data": {
      "image/png": "[encoded data removed]",
      "text/plain": [
       "<Figure size 432x288 with 1 Axes>"
      ]
     },
     "metadata": {},
     "output_type": "display_data"
    }
   ],
   "source": [
    "plt.hist(np.log(movies['Runtime']),bins=20)\n",
    "plt.show()"
   ]
  },
  {
   "cell_type": "code",
   "execution_count": 14,
   "metadata": {},
   "outputs": [
    {
     "name": "stdout",
     "output_type": "stream",
     "text": [
      "35442\n",
      "0\n"
     ]
    },
    {
     "name": "stderr",
     "output_type": "stream",
     "text": [
      "/Users/saarthak/anaconda3/lib/python3.6/site-packages/pandas/core/generic.py:5434: SettingWithCopyWarning: \n",
      "A value is trying to be set on a copy of a slice from a DataFrame\n",
      "\n",
      "See the caveats in the documentation: http://pandas.pydata.org/pandas-docs/stable/indexing.html#indexing-view-versus-copy\n",
      "  self._update_inplace(new_data)\n"
     ]
    }
   ],
   "source": [
    "print(sum(movies['Budget'].isnull()))\n",
    "movies['Budget'].fillna(np.mean(movies['Budget']),inplace=True)\n",
    "print(sum(movies['Budget'].isnull()))"
   ]
  },
  {
   "cell_type": "code",
   "execution_count": 15,
   "metadata": {},
   "outputs": [
    {
     "data": {
      "image/png": "[encoded data removed]",
      "text/plain": [
       "<Figure size 432x288 with 1 Axes>"
      ]
     },
     "metadata": {},
     "output_type": "display_data"
    }
   ],
   "source": [
    "plt.hist(np.log(movies['Budget']),bins=30)\n",
    "plt.show()"
   ]
  },
  {
   "cell_type": "code",
   "execution_count": 16,
   "metadata": {},
   "outputs": [
    {
     "data": {
      "text/plain": [
       "count    40000.000000\n",
       "mean      1980.604450\n",
       "std         25.057727\n",
       "min       1888.000000\n",
       "25%       1961.000000\n",
       "50%       1989.000000\n",
       "75%       2001.000000\n",
       "max       2018.000000\n",
       "Name: Year, dtype: float64"
      ]
     },
     "execution_count": 16,
     "metadata": {},
     "output_type": "execute_result"
    }
   ],
   "source": [
    "movies['Year'].describe()"
   ]
  },
  {
   "cell_type": "code",
   "execution_count": 17,
   "metadata": {},
   "outputs": [
    {
     "name": "stdout",
     "output_type": "stream",
     "text": [
      "0\n"
     ]
    }
   ],
   "source": [
    "print(sum(movies['Year'].isnull()))"
   ]
  },
  {
   "cell_type": "code",
   "execution_count": 18,
   "metadata": {},
   "outputs": [
    {
     "data": {
      "image/png": "[encoded data removed]",
      "text/plain": [
       "<Figure size 432x288 with 1 Axes>"
      ]
     },
     "metadata": {},
     "output_type": "display_data"
    }
   ],
   "source": [
    "plt.hist(np.log(movies['Year']),bins=20)\n",
    "plt.show()"
   ]
  },
  {
   "cell_type": "markdown",
   "metadata": {},
   "source": [
    "# Wins and Nominations"
   ]
  },
  {
   "cell_type": "code",
   "execution_count": 19,
   "metadata": {},
   "outputs": [],
   "source": [
    "import re\n",
    "def nominations(a):\n",
    "    a=str(a).lower()\n",
    "    nom_1=0\n",
    "    nom_2=0\n",
    "    nom=0\n",
    "    n1=re.findall(r\"nominated\\sfor\\s\\d+\",a,re.I|re.M)\n",
    "    n2=re.findall(r\"\\d+\\s+nomination\\w+\",a,re.I|re.M)\n",
    "    \n",
    "    if(len(n1)>0):\n",
    "        nom_1=int(re.match(r\"\\w+\\s+\\w+\\s+(\\d+)\",n1[0]).groups()[0])\n",
    "    if(len(n2)>0):\n",
    "        nom_2=int(re.match(r\"(\\d+)\\s+\\w+\",n2[0]).groups()[0])\n",
    "    nom=nom_1+nom_2\n",
    "    return nom"
   ]
  },
  {
   "cell_type": "code",
   "execution_count": 20,
   "metadata": {},
   "outputs": [
    {
     "name": "stderr",
     "output_type": "stream",
     "text": [
      "/Users/saarthak/anaconda3/lib/python3.6/site-packages/ipykernel_launcher.py:1: SettingWithCopyWarning: \n",
      "A value is trying to be set on a copy of a slice from a DataFrame.\n",
      "Try using .loc[row_indexer,col_indexer] = value instead\n",
      "\n",
      "See the caveats in the documentation: http://pandas.pydata.org/pandas-docs/stable/indexing.html#indexing-view-versus-copy\n",
      "  \"\"\"Entry point for launching an IPython kernel.\n"
     ]
    }
   ],
   "source": [
    "movies['Nominations']=list(map(nominations,movies['Awards']))"
   ]
  },
  {
   "cell_type": "code",
   "execution_count": 21,
   "metadata": {},
   "outputs": [],
   "source": [
    "import re\n",
    "def wins(a):\n",
    "    a=str(a).lower()\n",
    "    win1=0\n",
    "    win2=0\n",
    "    win=0\n",
    "    w1=re.findall(r\"won\\s\\d+\",a,re.I|re.M)\n",
    "    w2=re.findall(r\"\\d+\\s+wins\\w+\",a,re.I|re.M)\n",
    "    \n",
    "    if(len(w1)>0):\n",
    "        win1=int(re.match(r\"\\w+\\s+(\\d+)\",w1[0]).groups()[0])\n",
    "    if(len(w2)>0):\n",
    "        win2=int(re.match(r\"(\\d+)\\s+\\w+\",w2[0]).groups()[0])\n",
    "    win=win1+win2\n",
    "    return win"
   ]
  },
  {
   "cell_type": "code",
   "execution_count": 22,
   "metadata": {},
   "outputs": [
    {
     "name": "stderr",
     "output_type": "stream",
     "text": [
      "/Users/saarthak/anaconda3/lib/python3.6/site-packages/ipykernel_launcher.py:1: SettingWithCopyWarning: \n",
      "A value is trying to be set on a copy of a slice from a DataFrame.\n",
      "Try using .loc[row_indexer,col_indexer] = value instead\n",
      "\n",
      "See the caveats in the documentation: http://pandas.pydata.org/pandas-docs/stable/indexing.html#indexing-view-versus-copy\n",
      "  \"\"\"Entry point for launching an IPython kernel.\n"
     ]
    }
   ],
   "source": [
    "movies['Wins']=list(map(wins,movies['Awards']))"
   ]
  },
  {
   "cell_type": "markdown",
   "metadata": {},
   "source": [
    "# Genre Segregation"
   ]
  },
  {
   "cell_type": "code",
   "execution_count": 23,
   "metadata": {},
   "outputs": [
    {
     "data": {
      "text/plain": [
       "pandas.core.series.Series"
      ]
     },
     "execution_count": 23,
     "metadata": {},
     "output_type": "execute_result"
    }
   ],
   "source": [
    "type(df['Genre'])"
   ]
  },
  {
   "cell_type": "code",
   "execution_count": 24,
   "metadata": {},
   "outputs": [],
   "source": [
    "new_all=[]\n",
    "all_genres=[]\n",
    "unique_all=[]\n",
    "for i in movies['Genre']:\n",
    "        new_all.append(str(i).split(','))\n",
    "new_all=list(chain(*new_all))\n",
    "for i in new_all:\n",
    "    all_genres.append(i.strip())\n",
    "unique_all=set(all_genres)\n"
   ]
  },
  {
   "cell_type": "code",
   "execution_count": 25,
   "metadata": {},
   "outputs": [
    {
     "data": {
      "text/plain": [
       "{'Action',\n",
       " 'Adult',\n",
       " 'Adventure',\n",
       " 'Animation',\n",
       " 'Biography',\n",
       " 'Comedy',\n",
       " 'Crime',\n",
       " 'Documentary',\n",
       " 'Drama',\n",
       " 'Family',\n",
       " 'Fantasy',\n",
       " 'Film-Noir',\n",
       " 'Game-Show',\n",
       " 'History',\n",
       " 'Horror',\n",
       " 'Music',\n",
       " 'Musical',\n",
       " 'Mystery',\n",
       " 'News',\n",
       " 'Reality-TV',\n",
       " 'Romance',\n",
       " 'Sci-Fi',\n",
       " 'Short',\n",
       " 'Sport',\n",
       " 'Talk-Show',\n",
       " 'Thriller',\n",
       " 'War',\n",
       " 'Western'}"
      ]
     },
     "execution_count": 25,
     "metadata": {},
     "output_type": "execute_result"
    }
   ],
   "source": [
    "unique_all"
   ]
  },
  {
   "cell_type": "code",
   "execution_count": 26,
   "metadata": {},
   "outputs": [],
   "source": [
    "d={}\n",
    "for i in unique_all:\n",
    "    d[i]=[]\n",
    "    for j in movies['Genre']:\n",
    "        j=str(j).strip()\n",
    "        if i in j:\n",
    "            d[i].append(1)\n",
    "        else:\n",
    "            d[i].append(0)"
   ]
  },
  {
   "cell_type": "code",
   "execution_count": 27,
   "metadata": {},
   "outputs": [
    {
     "data": {
      "text/plain": [
       "1070"
      ]
     },
     "execution_count": 27,
     "metadata": {},
     "output_type": "execute_result"
    }
   ],
   "source": [
    "sum(d['War'])"
   ]
  },
  {
   "cell_type": "code",
   "execution_count": 28,
   "metadata": {},
   "outputs": [
    {
     "name": "stderr",
     "output_type": "stream",
     "text": [
      "/Users/saarthak/anaconda3/lib/python3.6/site-packages/ipykernel_launcher.py:5: SettingWithCopyWarning: \n",
      "A value is trying to be set on a copy of a slice from a DataFrame.\n",
      "Try using .loc[row_indexer,col_indexer] = value instead\n",
      "\n",
      "See the caveats in the documentation: http://pandas.pydata.org/pandas-docs/stable/indexing.html#indexing-view-versus-copy\n",
      "  \"\"\"\n"
     ]
    }
   ],
   "source": [
    "for keys in d.keys():\n",
    "    #for i in range(len(movies['Genre'])):\n",
    "    list_key=pd.Series(d[keys])\n",
    "        #movies[keys].loc[i]=d[keys][i]\n",
    "    movies[keys]=d[keys]    \n",
    "    #movies.insert(loc=0,column=keys,value=d[keys])    "
   ]
  },
  {
   "cell_type": "code",
   "execution_count": 29,
   "metadata": {},
   "outputs": [
    {
     "data": {
      "text/plain": [
       "1070"
      ]
     },
     "execution_count": 29,
     "metadata": {},
     "output_type": "execute_result"
    }
   ],
   "source": [
    "sum(movies['War'])"
   ]
  },
  {
   "cell_type": "markdown",
   "metadata": {},
   "source": [
    "# Top Genres"
   ]
  },
  {
   "cell_type": "code",
   "execution_count": 30,
   "metadata": {},
   "outputs": [],
   "source": [
    "new_all=[]\n",
    "all_genres=[]\n",
    "unique_all=[]\n",
    "for i in movies['Genre']:\n",
    "        new_all.append(str(i).split(','))\n",
    "new_all=list(chain(*new_all))\n",
    "for i in new_all:\n",
    "    all_genres.append(i.strip())\n",
    "unique_all=set(all_genres)"
   ]
  },
  {
   "cell_type": "code",
   "execution_count": 31,
   "metadata": {},
   "outputs": [
    {
     "name": "stdout",
     "output_type": "stream",
     "text": [
      "{'War': 1071, 'Adult': 423, 'Game-Show': 3, 'Thriller': 3381, 'Comedy': 12850, 'Action': 4414, 'Sci-Fi': 1625, 'Animation': 2789, 'Drama': 16846, 'Western': 1315, 'Crime': 4063, 'Music': 2572, 'Fantasy': 1401, 'Talk-Show': 5, 'Mystery': 1643, 'Film-Noir': 353, 'Romance': 4976, 'Reality-TV': 7, 'News': 21, 'Horror': 2717, 'Biography': 1110, 'Adventure': 2929, 'Documentary': 3052, 'Musical': 1388, 'Short': 6517, 'History': 831, 'Family': 2654, 'Sport': 526}\n"
     ]
    }
   ],
   "source": [
    "count={}\n",
    "for i in unique_all:\n",
    "    count[i]=1\n",
    "    for j in new_all:\n",
    "        if i in j:\n",
    "            count[i]=count[i]+1\n",
    "print(count)"
   ]
  },
  {
   "cell_type": "code",
   "execution_count": 32,
   "metadata": {},
   "outputs": [
    {
     "name": "stdout",
     "output_type": "stream",
     "text": [
      "[('Drama', 16846), ('Comedy', 12850), ('Short', 6517), ('Romance', 4976), ('Action', 4414), ('Crime', 4063), ('Thriller', 3381), ('Documentary', 3052), ('Adventure', 2929), ('Animation', 2789), ('Horror', 2717), ('Family', 2654), ('Music', 2572), ('Mystery', 1643), ('Sci-Fi', 1625), ('Fantasy', 1401), ('Musical', 1388), ('Western', 1315), ('Biography', 1110), ('War', 1071), ('History', 831), ('Sport', 526), ('Adult', 423), ('Film-Noir', 353), ('News', 21), ('Reality-TV', 7), ('Talk-Show', 5), ('Game-Show', 3)]\n",
      "[('Drama', 16846), ('Comedy', 12850), ('Short', 6517), ('Romance', 4976), ('Action', 4414), ('Crime', 4063), ('Thriller', 3381), ('Documentary', 3052), ('Adventure', 2929), ('Animation', 2789)]\n"
     ]
    }
   ],
   "source": [
    "sorted_count=sorted(count.items(),key=lambda x:x[1],reverse=True)\n",
    "print(sorted_count)\n",
    "top10=sorted_count[0:10]\n",
    "print(top10)"
   ]
  },
  {
   "cell_type": "code",
   "execution_count": 33,
   "metadata": {},
   "outputs": [
    {
     "name": "stdout",
     "output_type": "stream",
     "text": [
      "[16846, 12850, 6517, 4976, 4414, 4063, 3381, 3052, 2929, 2789]\n",
      "['Drama', 'Comedy', 'Short', 'Romance', 'Action', 'Crime', 'Thriller', 'Documentary', 'Adventure', 'Animation']\n"
     ]
    }
   ],
   "source": [
    "x=[]\n",
    "name=[]\n",
    "for i in range(len(top10)):\n",
    "    x.append(top10[i][1])\n",
    "    name.append(top10[i][0])\n",
    "print(x)\n",
    "print(name)"
   ]
  },
  {
   "cell_type": "code",
   "execution_count": 34,
   "metadata": {},
   "outputs": [
    {
     "data": {
      "image/png": "[encoded data removed]",
      "text/plain": [
       "<Figure size 432x288 with 1 Axes>"
      ]
     },
     "metadata": {},
     "output_type": "display_data"
    }
   ],
   "source": [
    "y_pos = np.arange(len(name))\n",
    " \n",
    "plt.barh(y_pos, x, align='center', alpha=1)\n",
    "plt.yticks(y_pos, name)\n",
    "plt.ylabel('Frequency Of Genres')\n",
    "plt.title('Top 10 Genres')\n",
    " \n",
    "plt.show()"
   ]
  },
  {
   "cell_type": "markdown",
   "metadata": {},
   "source": [
    "# Corrrelation and Scatter Plot"
   ]
  },
  {
   "cell_type": "code",
   "execution_count": 35,
   "metadata": {},
   "outputs": [
    {
     "name": "stdout",
     "output_type": "stream",
     "text": [
      "0.22642553772991497\n"
     ]
    },
    {
     "data": {
      "image/png": "[encoded data removed]",
      "text/plain": [
       "<Figure size 432x288 with 1 Axes>"
      ]
     },
     "metadata": {},
     "output_type": "display_data"
    }
   ],
   "source": [
    "print(movies['Runtime'].corr(movies['Year']))\n",
    "plt.scatter(movies['Runtime'],movies['Year'])\n",
    "plt.xlabel(\"Runtime\")\n",
    "plt.ylabel(\"Year\")\n",
    "plt.title(\"Corr between Runtime and Year\")\n",
    "plt.show()"
   ]
  },
  {
   "cell_type": "code",
   "execution_count": 36,
   "metadata": {},
   "outputs": [
    {
     "name": "stdout",
     "output_type": "stream",
     "text": [
      "0.7419124839791145\n"
     ]
    },
    {
     "data": {
      "image/png": "[encoded data removed]",
      "text/plain": [
       "<Figure size 432x288 with 1 Axes>"
      ]
     },
     "metadata": {},
     "output_type": "display_data"
    }
   ],
   "source": [
    "print(movies['Gross'].corr(movies['Budget']))\n",
    "plt.scatter(movies['Gross'],movies['Budget'])\n",
    "plt.xlabel(\"Gross\")\n",
    "plt.ylabel(\"Budget\")\n",
    "plt.title(\"Corr between Gross and Budget\")\n",
    "plt.show()"
   ]
  },
  {
   "cell_type": "code",
   "execution_count": 37,
   "metadata": {},
   "outputs": [
    {
     "name": "stdout",
     "output_type": "stream",
     "text": [
      "0.2124445013949441\n"
     ]
    },
    {
     "data": {
      "image/png": "[encoded data removed]",
      "text/plain": [
       "<Figure size 432x288 with 1 Axes>"
      ]
     },
     "metadata": {},
     "output_type": "display_data"
    }
   ],
   "source": [
    "print(movies['Gross'].corr(movies['Wins']))\n",
    "plt.scatter(movies['Gross'],movies['Wins'])\n",
    "plt.xlabel(\"Gross\")\n",
    "plt.ylabel(\"Wins\")\n",
    "plt.title(\"Corr between Gross and Wins\")\n",
    "plt.show()"
   ]
  },
  {
   "cell_type": "code",
   "execution_count": 38,
   "metadata": {},
   "outputs": [
    {
     "name": "stdout",
     "output_type": "stream",
     "text": [
      "0.3652119180248889\n"
     ]
    },
    {
     "data": {
      "image/png": "[encoded data removed]",
      "text/plain": [
       "<Figure size 432x288 with 1 Axes>"
      ]
     },
     "metadata": {},
     "output_type": "display_data"
    }
   ],
   "source": [
    "print(movies['Gross'].corr(movies['Nominations']))\n",
    "plt.scatter(movies['Gross'],movies['Nominations'])\n",
    "plt.xlabel(\"Gross\")\n",
    "plt.ylabel(\"Nominations\")\n",
    "plt.title(\"Corr between Gross and Nominations\")\n",
    "plt.show()"
   ]
  },
  {
   "cell_type": "code",
   "execution_count": 39,
   "metadata": {},
   "outputs": [
    {
     "name": "stdout",
     "output_type": "stream",
     "text": [
      "0.7938417239203803\n"
     ]
    },
    {
     "data": {
      "image/png": "[encoded data removed]",
      "text/plain": [
       "<Figure size 432x288 with 1 Axes>"
      ]
     },
     "metadata": {},
     "output_type": "display_data"
    }
   ],
   "source": [
    "print(movies['tomatoRating'].corr(movies['imdbRating']))\n",
    "plt.scatter(movies['tomatoRating'],movies['imdbRating'])\n",
    "plt.xlabel(\"tomato Rating\")\n",
    "plt.ylabel(\"Imdb Rating\")\n",
    "plt.title(\"Corr between Tomato Rating and Imdb Rating\")\n",
    "plt.show()"
   ]
  },
  {
   "cell_type": "code",
   "execution_count": 40,
   "metadata": {},
   "outputs": [
    {
     "name": "stdout",
     "output_type": "stream",
     "text": [
      "0.0279600146353651\n"
     ]
    },
    {
     "data": {
      "image/png": "[encoded data removed]",
      "text/plain": [
       "<Figure size 432x288 with 1 Axes>"
      ]
     },
     "metadata": {},
     "output_type": "display_data"
    }
   ],
   "source": [
    "print(movies['Budget'].corr(movies['Year']))\n",
    "plt.scatter(movies['Budget'],movies['Year'])\n",
    "plt.xlabel(\"Budget\")\n",
    "plt.ylabel(\"Year\")\n",
    "plt.title(\"Corr between Budget and Year\")\n",
    "plt.show()"
   ]
  },
  {
   "cell_type": "markdown",
   "metadata": {},
   "source": [
    "# Gross Value Missing"
   ]
  },
  {
   "cell_type": "code",
   "execution_count": 41,
   "metadata": {},
   "outputs": [
    {
     "data": {
      "text/plain": [
       "35442"
      ]
     },
     "execution_count": 41,
     "metadata": {},
     "output_type": "execute_result"
    }
   ],
   "source": [
    "sum(movies['Gross'].isnull())"
   ]
  },
  {
   "cell_type": "code",
   "execution_count": 42,
   "metadata": {},
   "outputs": [
    {
     "name": "stderr",
     "output_type": "stream",
     "text": [
      "/Users/saarthak/anaconda3/lib/python3.6/site-packages/ipykernel_launcher.py:1: SettingWithCopyWarning: \n",
      "A value is trying to be set on a copy of a slice from a DataFrame\n",
      "\n",
      "See the caveats in the documentation: http://pandas.pydata.org/pandas-docs/stable/indexing.html#indexing-view-versus-copy\n",
      "  \"\"\"Entry point for launching an IPython kernel.\n"
     ]
    }
   ],
   "source": [
    "movies.dropna(subset=['Gross'],inplace=True)"
   ]
  },
  {
   "cell_type": "code",
   "execution_count": 43,
   "metadata": {},
   "outputs": [
    {
     "name": "stdout",
     "output_type": "stream",
     "text": [
      "0\n",
      "(4558, 70)\n"
     ]
    }
   ],
   "source": [
    "print(sum(movies['Gross'].isnull()))\n",
    "print(movies.shape)"
   ]
  },
  {
   "cell_type": "markdown",
   "metadata": {},
   "source": [
    "# Movies Greater than Year 2000"
   ]
  },
  {
   "cell_type": "code",
   "execution_count": 44,
   "metadata": {},
   "outputs": [],
   "source": [
    "movies=movies[movies['Year']>2000]"
   ]
  },
  {
   "cell_type": "code",
   "execution_count": 45,
   "metadata": {},
   "outputs": [
    {
     "data": {
      "text/plain": [
       "count    3163.000000\n",
       "mean     2008.402466\n",
       "std         4.370154\n",
       "min      2001.000000\n",
       "25%      2005.000000\n",
       "50%      2008.000000\n",
       "75%      2012.000000\n",
       "max      2017.000000\n",
       "Name: Year, dtype: float64"
      ]
     },
     "execution_count": 45,
     "metadata": {},
     "output_type": "execute_result"
    }
   ],
   "source": [
    "movies['Year'].describe()"
   ]
  },
  {
   "cell_type": "markdown",
   "metadata": {},
   "source": [
    "# Getting only Numerical Values"
   ]
  },
  {
   "cell_type": "code",
   "execution_count": 46,
   "metadata": {},
   "outputs": [],
   "source": [
    "movies_new=movies.select_dtypes(include='number')"
   ]
  },
  {
   "cell_type": "code",
   "execution_count": 47,
   "metadata": {},
   "outputs": [
    {
     "name": "stdout",
     "output_type": "stream",
     "text": [
      "(3163, 70)\n",
      "(3163, 48)\n"
     ]
    },
    {
     "data": {
      "text/html": [
       "<div>\n",
       "<style scoped>\n",
       "    .dataframe tbody tr th:only-of-type {\n",
       "        vertical-align: middle;\n",
       "    }\n",
       "\n",
       "    .dataframe tbody tr th {\n",
       "        vertical-align: top;\n",
       "    }\n",
       "\n",
       "    .dataframe thead th {\n",
       "        text-align: right;\n",
       "    }\n",
       "</style>\n",
       "<table border=\"1\" class=\"dataframe\">\n",
       "  <thead>\n",
       "    <tr style=\"text-align: right;\">\n",
       "      <th></th>\n",
       "      <th>Unnamed: 0</th>\n",
       "      <th>Year</th>\n",
       "      <th>Runtime</th>\n",
       "      <th>Metascore</th>\n",
       "      <th>imdbRating</th>\n",
       "      <th>imdbVotes</th>\n",
       "      <th>tomatoMeter</th>\n",
       "      <th>tomatoRating</th>\n",
       "      <th>tomatoReviews</th>\n",
       "      <th>tomatoFresh</th>\n",
       "      <th>...</th>\n",
       "      <th>News</th>\n",
       "      <th>Horror</th>\n",
       "      <th>Biography</th>\n",
       "      <th>Adventure</th>\n",
       "      <th>Documentary</th>\n",
       "      <th>Musical</th>\n",
       "      <th>Short</th>\n",
       "      <th>History</th>\n",
       "      <th>Family</th>\n",
       "      <th>Sport</th>\n",
       "    </tr>\n",
       "  </thead>\n",
       "  <tbody>\n",
       "    <tr>\n",
       "      <th>count</th>\n",
       "      <td>3163.000000</td>\n",
       "      <td>3163.000000</td>\n",
       "      <td>3163.000000</td>\n",
       "      <td>2746.000000</td>\n",
       "      <td>3120.000000</td>\n",
       "      <td>3.120000e+03</td>\n",
       "      <td>2775.000000</td>\n",
       "      <td>2775.000000</td>\n",
       "      <td>2776.000000</td>\n",
       "      <td>2776.000000</td>\n",
       "      <td>...</td>\n",
       "      <td>3163.000000</td>\n",
       "      <td>3163.000000</td>\n",
       "      <td>3163.000000</td>\n",
       "      <td>3163.000000</td>\n",
       "      <td>3163.000000</td>\n",
       "      <td>3163.000000</td>\n",
       "      <td>3163.000000</td>\n",
       "      <td>3163.000000</td>\n",
       "      <td>3163.000000</td>\n",
       "      <td>3163.000000</td>\n",
       "    </tr>\n",
       "    <tr>\n",
       "      <th>mean</th>\n",
       "      <td>70401.246601</td>\n",
       "      <td>2008.402466</td>\n",
       "      <td>104.336927</td>\n",
       "      <td>52.924982</td>\n",
       "      <td>6.294904</td>\n",
       "      <td>8.530600e+04</td>\n",
       "      <td>51.945225</td>\n",
       "      <td>5.607387</td>\n",
       "      <td>127.347983</td>\n",
       "      <td>73.070245</td>\n",
       "      <td>...</td>\n",
       "      <td>0.000632</td>\n",
       "      <td>0.106861</td>\n",
       "      <td>0.061018</td>\n",
       "      <td>0.170724</td>\n",
       "      <td>0.039519</td>\n",
       "      <td>0.010117</td>\n",
       "      <td>0.006323</td>\n",
       "      <td>0.027189</td>\n",
       "      <td>0.071135</td>\n",
       "      <td>0.027822</td>\n",
       "    </tr>\n",
       "    <tr>\n",
       "      <th>std</th>\n",
       "      <td>49777.371473</td>\n",
       "      <td>4.370154</td>\n",
       "      <td>19.230381</td>\n",
       "      <td>17.651252</td>\n",
       "      <td>1.102757</td>\n",
       "      <td>1.328866e+05</td>\n",
       "      <td>27.468142</td>\n",
       "      <td>1.447502</td>\n",
       "      <td>67.324916</td>\n",
       "      <td>63.502042</td>\n",
       "      <td>...</td>\n",
       "      <td>0.025142</td>\n",
       "      <td>0.308985</td>\n",
       "      <td>0.239401</td>\n",
       "      <td>0.376327</td>\n",
       "      <td>0.194858</td>\n",
       "      <td>0.100089</td>\n",
       "      <td>0.079279</td>\n",
       "      <td>0.162661</td>\n",
       "      <td>0.257091</td>\n",
       "      <td>0.164488</td>\n",
       "    </tr>\n",
       "    <tr>\n",
       "      <th>min</th>\n",
       "      <td>13.000000</td>\n",
       "      <td>2001.000000</td>\n",
       "      <td>1.000000</td>\n",
       "      <td>1.000000</td>\n",
       "      <td>1.600000</td>\n",
       "      <td>5.000000e+00</td>\n",
       "      <td>0.000000</td>\n",
       "      <td>1.000000</td>\n",
       "      <td>3.000000</td>\n",
       "      <td>0.000000</td>\n",
       "      <td>...</td>\n",
       "      <td>0.000000</td>\n",
       "      <td>0.000000</td>\n",
       "      <td>0.000000</td>\n",
       "      <td>0.000000</td>\n",
       "      <td>0.000000</td>\n",
       "      <td>0.000000</td>\n",
       "      <td>0.000000</td>\n",
       "      <td>0.000000</td>\n",
       "      <td>0.000000</td>\n",
       "      <td>0.000000</td>\n",
       "    </tr>\n",
       "    <tr>\n",
       "      <th>25%</th>\n",
       "      <td>13076.500000</td>\n",
       "      <td>2005.000000</td>\n",
       "      <td>92.000000</td>\n",
       "      <td>40.000000</td>\n",
       "      <td>5.700000</td>\n",
       "      <td>8.949500e+03</td>\n",
       "      <td>29.000000</td>\n",
       "      <td>4.500000</td>\n",
       "      <td>81.000000</td>\n",
       "      <td>20.000000</td>\n",
       "      <td>...</td>\n",
       "      <td>0.000000</td>\n",
       "      <td>0.000000</td>\n",
       "      <td>0.000000</td>\n",
       "      <td>0.000000</td>\n",
       "      <td>0.000000</td>\n",
       "      <td>0.000000</td>\n",
       "      <td>0.000000</td>\n",
       "      <td>0.000000</td>\n",
       "      <td>0.000000</td>\n",
       "      <td>0.000000</td>\n",
       "    </tr>\n",
       "    <tr>\n",
       "      <th>50%</th>\n",
       "      <td>110317.000000</td>\n",
       "      <td>2008.000000</td>\n",
       "      <td>101.000000</td>\n",
       "      <td>53.000000</td>\n",
       "      <td>6.400000</td>\n",
       "      <td>3.682600e+04</td>\n",
       "      <td>52.000000</td>\n",
       "      <td>5.600000</td>\n",
       "      <td>128.500000</td>\n",
       "      <td>57.000000</td>\n",
       "      <td>...</td>\n",
       "      <td>0.000000</td>\n",
       "      <td>0.000000</td>\n",
       "      <td>0.000000</td>\n",
       "      <td>0.000000</td>\n",
       "      <td>0.000000</td>\n",
       "      <td>0.000000</td>\n",
       "      <td>0.000000</td>\n",
       "      <td>0.000000</td>\n",
       "      <td>0.000000</td>\n",
       "      <td>0.000000</td>\n",
       "    </tr>\n",
       "    <tr>\n",
       "      <th>75%</th>\n",
       "      <td>111134.500000</td>\n",
       "      <td>2012.000000</td>\n",
       "      <td>114.000000</td>\n",
       "      <td>66.000000</td>\n",
       "      <td>7.100000</td>\n",
       "      <td>1.021338e+05</td>\n",
       "      <td>76.000000</td>\n",
       "      <td>6.700000</td>\n",
       "      <td>171.000000</td>\n",
       "      <td>111.000000</td>\n",
       "      <td>...</td>\n",
       "      <td>0.000000</td>\n",
       "      <td>0.000000</td>\n",
       "      <td>0.000000</td>\n",
       "      <td>0.000000</td>\n",
       "      <td>0.000000</td>\n",
       "      <td>0.000000</td>\n",
       "      <td>0.000000</td>\n",
       "      <td>0.000000</td>\n",
       "      <td>0.000000</td>\n",
       "      <td>0.000000</td>\n",
       "    </tr>\n",
       "    <tr>\n",
       "      <th>max</th>\n",
       "      <td>111998.000000</td>\n",
       "      <td>2017.000000</td>\n",
       "      <td>219.000000</td>\n",
       "      <td>100.000000</td>\n",
       "      <td>9.000000</td>\n",
       "      <td>1.670736e+06</td>\n",
       "      <td>100.000000</td>\n",
       "      <td>9.200000</td>\n",
       "      <td>355.000000</td>\n",
       "      <td>343.000000</td>\n",
       "      <td>...</td>\n",
       "      <td>1.000000</td>\n",
       "      <td>1.000000</td>\n",
       "      <td>1.000000</td>\n",
       "      <td>1.000000</td>\n",
       "      <td>1.000000</td>\n",
       "      <td>1.000000</td>\n",
       "      <td>1.000000</td>\n",
       "      <td>1.000000</td>\n",
       "      <td>1.000000</td>\n",
       "      <td>1.000000</td>\n",
       "    </tr>\n",
       "  </tbody>\n",
       "</table>\n",
       "<p>8 rows × 48 columns</p>\n",
       "</div>"
      ],
      "text/plain": [
       "          Unnamed: 0         Year      Runtime    Metascore   imdbRating  \\\n",
       "count    3163.000000  3163.000000  3163.000000  2746.000000  3120.000000   \n",
       "mean    70401.246601  2008.402466   104.336927    52.924982     6.294904   \n",
       "std     49777.371473     4.370154    19.230381    17.651252     1.102757   \n",
       "min        13.000000  2001.000000     1.000000     1.000000     1.600000   \n",
       "25%     13076.500000  2005.000000    92.000000    40.000000     5.700000   \n",
       "50%    110317.000000  2008.000000   101.000000    53.000000     6.400000   \n",
       "75%    111134.500000  2012.000000   114.000000    66.000000     7.100000   \n",
       "max    111998.000000  2017.000000   219.000000   100.000000     9.000000   \n",
       "\n",
       "          imdbVotes  tomatoMeter  tomatoRating  tomatoReviews  tomatoFresh  \\\n",
       "count  3.120000e+03  2775.000000   2775.000000    2776.000000  2776.000000   \n",
       "mean   8.530600e+04    51.945225      5.607387     127.347983    73.070245   \n",
       "std    1.328866e+05    27.468142      1.447502      67.324916    63.502042   \n",
       "min    5.000000e+00     0.000000      1.000000       3.000000     0.000000   \n",
       "25%    8.949500e+03    29.000000      4.500000      81.000000    20.000000   \n",
       "50%    3.682600e+04    52.000000      5.600000     128.500000    57.000000   \n",
       "75%    1.021338e+05    76.000000      6.700000     171.000000   111.000000   \n",
       "max    1.670736e+06   100.000000      9.200000     355.000000   343.000000   \n",
       "\n",
       "          ...              News       Horror    Biography    Adventure  \\\n",
       "count     ...       3163.000000  3163.000000  3163.000000  3163.000000   \n",
       "mean      ...          0.000632     0.106861     0.061018     0.170724   \n",
       "std       ...          0.025142     0.308985     0.239401     0.376327   \n",
       "min       ...          0.000000     0.000000     0.000000     0.000000   \n",
       "25%       ...          0.000000     0.000000     0.000000     0.000000   \n",
       "50%       ...          0.000000     0.000000     0.000000     0.000000   \n",
       "75%       ...          0.000000     0.000000     0.000000     0.000000   \n",
       "max       ...          1.000000     1.000000     1.000000     1.000000   \n",
       "\n",
       "       Documentary      Musical        Short      History       Family  \\\n",
       "count  3163.000000  3163.000000  3163.000000  3163.000000  3163.000000   \n",
       "mean      0.039519     0.010117     0.006323     0.027189     0.071135   \n",
       "std       0.194858     0.100089     0.079279     0.162661     0.257091   \n",
       "min       0.000000     0.000000     0.000000     0.000000     0.000000   \n",
       "25%       0.000000     0.000000     0.000000     0.000000     0.000000   \n",
       "50%       0.000000     0.000000     0.000000     0.000000     0.000000   \n",
       "75%       0.000000     0.000000     0.000000     0.000000     0.000000   \n",
       "max       1.000000     1.000000     1.000000     1.000000     1.000000   \n",
       "\n",
       "             Sport  \n",
       "count  3163.000000  \n",
       "mean      0.027822  \n",
       "std       0.164488  \n",
       "min       0.000000  \n",
       "25%       0.000000  \n",
       "50%       0.000000  \n",
       "75%       0.000000  \n",
       "max       1.000000  \n",
       "\n",
       "[8 rows x 48 columns]"
      ]
     },
     "execution_count": 47,
     "metadata": {},
     "output_type": "execute_result"
    }
   ],
   "source": [
    "print(movies.shape)\n",
    "print(movies_new.shape)\n",
    "movies_new.describe()"
   ]
  },
  {
   "cell_type": "markdown",
   "metadata": {},
   "source": [
    "# Removing Null Values"
   ]
  },
  {
   "cell_type": "code",
   "execution_count": 48,
   "metadata": {},
   "outputs": [
    {
     "name": "stdout",
     "output_type": "stream",
     "text": [
      "417\n"
     ]
    }
   ],
   "source": [
    "movies_new['Metascore'].describe()\n",
    "print(sum(movies_new['Metascore'].isnull()))"
   ]
  },
  {
   "cell_type": "code",
   "execution_count": 49,
   "metadata": {},
   "outputs": [
    {
     "name": "stderr",
     "output_type": "stream",
     "text": [
      "/Users/saarthak/anaconda3/lib/python3.6/site-packages/pandas/core/generic.py:5434: SettingWithCopyWarning: \n",
      "A value is trying to be set on a copy of a slice from a DataFrame\n",
      "\n",
      "See the caveats in the documentation: http://pandas.pydata.org/pandas-docs/stable/indexing.html#indexing-view-versus-copy\n",
      "  self._update_inplace(new_data)\n"
     ]
    }
   ],
   "source": [
    "movies_new['Metascore'].fillna(np.mean(movies_new['Metascore']),inplace=True)"
   ]
  },
  {
   "cell_type": "code",
   "execution_count": 50,
   "metadata": {},
   "outputs": [
    {
     "data": {
      "text/plain": [
       "43"
      ]
     },
     "execution_count": 50,
     "metadata": {},
     "output_type": "execute_result"
    }
   ],
   "source": [
    "movies_new['imdbRating'].describe()\n",
    "movies_new['imdbRating'].value_counts()\n",
    "sum(movies_new['imdbRating'].isnull())"
   ]
  },
  {
   "cell_type": "code",
   "execution_count": 51,
   "metadata": {},
   "outputs": [
    {
     "name": "stderr",
     "output_type": "stream",
     "text": [
      "/Users/saarthak/anaconda3/lib/python3.6/site-packages/pandas/core/generic.py:5434: SettingWithCopyWarning: \n",
      "A value is trying to be set on a copy of a slice from a DataFrame\n",
      "\n",
      "See the caveats in the documentation: http://pandas.pydata.org/pandas-docs/stable/indexing.html#indexing-view-versus-copy\n",
      "  self._update_inplace(new_data)\n"
     ]
    }
   ],
   "source": [
    "movies_new['imdbRating'].fillna(np.mean(movies_new['imdbRating']),inplace=True)"
   ]
  },
  {
   "cell_type": "code",
   "execution_count": 52,
   "metadata": {},
   "outputs": [
    {
     "data": {
      "text/plain": [
       "43"
      ]
     },
     "execution_count": 52,
     "metadata": {},
     "output_type": "execute_result"
    }
   ],
   "source": [
    "movies_new['imdbVotes'].describe()\n",
    "movies_new['imdbVotes'].value_counts()\n",
    "sum(movies_new['imdbVotes'].isnull())"
   ]
  },
  {
   "cell_type": "code",
   "execution_count": 53,
   "metadata": {},
   "outputs": [
    {
     "name": "stderr",
     "output_type": "stream",
     "text": [
      "/Users/saarthak/anaconda3/lib/python3.6/site-packages/pandas/core/generic.py:5434: SettingWithCopyWarning: \n",
      "A value is trying to be set on a copy of a slice from a DataFrame\n",
      "\n",
      "See the caveats in the documentation: http://pandas.pydata.org/pandas-docs/stable/indexing.html#indexing-view-versus-copy\n",
      "  self._update_inplace(new_data)\n"
     ]
    }
   ],
   "source": [
    "movies_new['imdbVotes'].fillna(np.mean(movies_new['imdbVotes']),inplace=True)"
   ]
  },
  {
   "cell_type": "code",
   "execution_count": 54,
   "metadata": {},
   "outputs": [
    {
     "data": {
      "text/plain": [
       "388"
      ]
     },
     "execution_count": 54,
     "metadata": {},
     "output_type": "execute_result"
    }
   ],
   "source": [
    "movies_new['tomatoMeter'].describe()\n",
    "movies_new['tomatoMeter'].value_counts()\n",
    "sum(movies_new['tomatoMeter'].isnull())"
   ]
  },
  {
   "cell_type": "code",
   "execution_count": 55,
   "metadata": {},
   "outputs": [
    {
     "name": "stderr",
     "output_type": "stream",
     "text": [
      "/Users/saarthak/anaconda3/lib/python3.6/site-packages/pandas/core/generic.py:5434: SettingWithCopyWarning: \n",
      "A value is trying to be set on a copy of a slice from a DataFrame\n",
      "\n",
      "See the caveats in the documentation: http://pandas.pydata.org/pandas-docs/stable/indexing.html#indexing-view-versus-copy\n",
      "  self._update_inplace(new_data)\n"
     ]
    }
   ],
   "source": [
    "movies_new['tomatoMeter'].fillna(np.mean(movies_new['tomatoMeter']),inplace=True)"
   ]
  },
  {
   "cell_type": "code",
   "execution_count": 56,
   "metadata": {},
   "outputs": [
    {
     "name": "stderr",
     "output_type": "stream",
     "text": [
      "/Users/saarthak/anaconda3/lib/python3.6/site-packages/pandas/core/generic.py:5434: SettingWithCopyWarning: \n",
      "A value is trying to be set on a copy of a slice from a DataFrame\n",
      "\n",
      "See the caveats in the documentation: http://pandas.pydata.org/pandas-docs/stable/indexing.html#indexing-view-versus-copy\n",
      "  self._update_inplace(new_data)\n"
     ]
    }
   ],
   "source": [
    "movies_new['tomatoFresh'].fillna(np.mean(movies_new['tomatoFresh']),inplace=True)\n",
    "movies_new['tomatoRating'].fillna(np.mean(movies_new['tomatoRating']),inplace=True)\n",
    "movies_new['tomatoRotten'].fillna(np.mean(movies_new['tomatoRotten']),inplace=True)\n",
    "movies_new['tomatoUserMeter'].fillna(np.mean(movies_new['tomatoUserMeter']),inplace=True)\n",
    "movies_new['tomatoUserRating'].fillna(np.mean(movies_new['tomatoUserRating']),inplace=True)\n",
    "movies_new['tomatoUserReviews'].fillna(np.mean(movies_new['tomatoUserReviews']),inplace=True)\n",
    "movies_new['tomatoReviews'].fillna(np.mean(movies_new['tomatoReviews']),inplace=True)"
   ]
  },
  {
   "cell_type": "code",
   "execution_count": 57,
   "metadata": {},
   "outputs": [
    {
     "data": {
      "text/html": [
       "<div>\n",
       "<style scoped>\n",
       "    .dataframe tbody tr th:only-of-type {\n",
       "        vertical-align: middle;\n",
       "    }\n",
       "\n",
       "    .dataframe tbody tr th {\n",
       "        vertical-align: top;\n",
       "    }\n",
       "\n",
       "    .dataframe thead th {\n",
       "        text-align: right;\n",
       "    }\n",
       "</style>\n",
       "<table border=\"1\" class=\"dataframe\">\n",
       "  <thead>\n",
       "    <tr style=\"text-align: right;\">\n",
       "      <th></th>\n",
       "      <th>Unnamed: 0</th>\n",
       "      <th>Year</th>\n",
       "      <th>Runtime</th>\n",
       "      <th>Metascore</th>\n",
       "      <th>imdbRating</th>\n",
       "      <th>imdbVotes</th>\n",
       "      <th>tomatoMeter</th>\n",
       "      <th>tomatoRating</th>\n",
       "      <th>tomatoReviews</th>\n",
       "      <th>tomatoFresh</th>\n",
       "      <th>...</th>\n",
       "      <th>News</th>\n",
       "      <th>Horror</th>\n",
       "      <th>Biography</th>\n",
       "      <th>Adventure</th>\n",
       "      <th>Documentary</th>\n",
       "      <th>Musical</th>\n",
       "      <th>Short</th>\n",
       "      <th>History</th>\n",
       "      <th>Family</th>\n",
       "      <th>Sport</th>\n",
       "    </tr>\n",
       "  </thead>\n",
       "  <tbody>\n",
       "    <tr>\n",
       "      <th>12</th>\n",
       "      <td>13</td>\n",
       "      <td>2005</td>\n",
       "      <td>96.0</td>\n",
       "      <td>9.0</td>\n",
       "      <td>2.3</td>\n",
       "      <td>37613.0</td>\n",
       "      <td>1.0</td>\n",
       "      <td>1.7</td>\n",
       "      <td>117.0</td>\n",
       "      <td>1.0</td>\n",
       "      <td>...</td>\n",
       "      <td>0</td>\n",
       "      <td>1</td>\n",
       "      <td>0</td>\n",
       "      <td>0</td>\n",
       "      <td>0</td>\n",
       "      <td>0</td>\n",
       "      <td>0</td>\n",
       "      <td>0</td>\n",
       "      <td>0</td>\n",
       "      <td>0</td>\n",
       "    </tr>\n",
       "    <tr>\n",
       "      <th>20</th>\n",
       "      <td>21</td>\n",
       "      <td>2005</td>\n",
       "      <td>95.0</td>\n",
       "      <td>27.0</td>\n",
       "      <td>4.6</td>\n",
       "      <td>22611.0</td>\n",
       "      <td>11.0</td>\n",
       "      <td>3.3</td>\n",
       "      <td>116.0</td>\n",
       "      <td>13.0</td>\n",
       "      <td>...</td>\n",
       "      <td>0</td>\n",
       "      <td>0</td>\n",
       "      <td>0</td>\n",
       "      <td>1</td>\n",
       "      <td>0</td>\n",
       "      <td>0</td>\n",
       "      <td>0</td>\n",
       "      <td>0</td>\n",
       "      <td>1</td>\n",
       "      <td>0</td>\n",
       "    </tr>\n",
       "    <tr>\n",
       "      <th>26</th>\n",
       "      <td>27</td>\n",
       "      <td>2005</td>\n",
       "      <td>118.0</td>\n",
       "      <td>37.0</td>\n",
       "      <td>5.7</td>\n",
       "      <td>59443.0</td>\n",
       "      <td>30.0</td>\n",
       "      <td>4.6</td>\n",
       "      <td>169.0</td>\n",
       "      <td>50.0</td>\n",
       "      <td>...</td>\n",
       "      <td>0</td>\n",
       "      <td>0</td>\n",
       "      <td>0</td>\n",
       "      <td>0</td>\n",
       "      <td>0</td>\n",
       "      <td>0</td>\n",
       "      <td>0</td>\n",
       "      <td>0</td>\n",
       "      <td>0</td>\n",
       "      <td>0</td>\n",
       "    </tr>\n",
       "    <tr>\n",
       "      <th>27</th>\n",
       "      <td>28</td>\n",
       "      <td>2005</td>\n",
       "      <td>105.0</td>\n",
       "      <td>53.0</td>\n",
       "      <td>5.5</td>\n",
       "      <td>13197.0</td>\n",
       "      <td>37.0</td>\n",
       "      <td>5.3</td>\n",
       "      <td>115.0</td>\n",
       "      <td>43.0</td>\n",
       "      <td>...</td>\n",
       "      <td>0</td>\n",
       "      <td>0</td>\n",
       "      <td>0</td>\n",
       "      <td>0</td>\n",
       "      <td>0</td>\n",
       "      <td>0</td>\n",
       "      <td>0</td>\n",
       "      <td>0</td>\n",
       "      <td>0</td>\n",
       "      <td>0</td>\n",
       "    </tr>\n",
       "    <tr>\n",
       "      <th>28</th>\n",
       "      <td>29</td>\n",
       "      <td>2005</td>\n",
       "      <td>106.0</td>\n",
       "      <td>54.0</td>\n",
       "      <td>6.4</td>\n",
       "      <td>8427.0</td>\n",
       "      <td>54.0</td>\n",
       "      <td>5.8</td>\n",
       "      <td>119.0</td>\n",
       "      <td>64.0</td>\n",
       "      <td>...</td>\n",
       "      <td>0</td>\n",
       "      <td>0</td>\n",
       "      <td>0</td>\n",
       "      <td>0</td>\n",
       "      <td>0</td>\n",
       "      <td>0</td>\n",
       "      <td>0</td>\n",
       "      <td>0</td>\n",
       "      <td>1</td>\n",
       "      <td>0</td>\n",
       "    </tr>\n",
       "  </tbody>\n",
       "</table>\n",
       "<p>5 rows × 47 columns</p>\n",
       "</div>"
      ],
      "text/plain": [
       "    Unnamed: 0  Year  Runtime  Metascore  imdbRating  imdbVotes  tomatoMeter  \\\n",
       "12          13  2005     96.0        9.0         2.3    37613.0          1.0   \n",
       "20          21  2005     95.0       27.0         4.6    22611.0         11.0   \n",
       "26          27  2005    118.0       37.0         5.7    59443.0         30.0   \n",
       "27          28  2005    105.0       53.0         5.5    13197.0         37.0   \n",
       "28          29  2005    106.0       54.0         6.4     8427.0         54.0   \n",
       "\n",
       "    tomatoRating  tomatoReviews  tomatoFresh  ...    News  Horror  Biography  \\\n",
       "12           1.7          117.0          1.0  ...       0       1          0   \n",
       "20           3.3          116.0         13.0  ...       0       0          0   \n",
       "26           4.6          169.0         50.0  ...       0       0          0   \n",
       "27           5.3          115.0         43.0  ...       0       0          0   \n",
       "28           5.8          119.0         64.0  ...       0       0          0   \n",
       "\n",
       "    Adventure  Documentary  Musical  Short  History  Family  Sport  \n",
       "12          0            0        0      0        0       0      0  \n",
       "20          1            0        0      0        0       1      0  \n",
       "26          0            0        0      0        0       0      0  \n",
       "27          0            0        0      0        0       0      0  \n",
       "28          0            0        0      0        0       1      0  \n",
       "\n",
       "[5 rows x 47 columns]"
      ]
     },
     "execution_count": 57,
     "metadata": {},
     "output_type": "execute_result"
    }
   ],
   "source": [
    "X=movies_new.loc[:,movies_new.columns !='Gross']\n",
    "X.head()"
   ]
  },
  {
   "cell_type": "code",
   "execution_count": 58,
   "metadata": {},
   "outputs": [
    {
     "data": {
      "text/html": [
       "<div>\n",
       "<style scoped>\n",
       "    .dataframe tbody tr th:only-of-type {\n",
       "        vertical-align: middle;\n",
       "    }\n",
       "\n",
       "    .dataframe tbody tr th {\n",
       "        vertical-align: top;\n",
       "    }\n",
       "\n",
       "    .dataframe thead th {\n",
       "        text-align: right;\n",
       "    }\n",
       "</style>\n",
       "<table border=\"1\" class=\"dataframe\">\n",
       "  <thead>\n",
       "    <tr style=\"text-align: right;\">\n",
       "      <th></th>\n",
       "      <th>Year</th>\n",
       "      <th>Runtime</th>\n",
       "      <th>Metascore</th>\n",
       "      <th>imdbRating</th>\n",
       "      <th>imdbVotes</th>\n",
       "      <th>tomatoMeter</th>\n",
       "      <th>tomatoRating</th>\n",
       "      <th>tomatoReviews</th>\n",
       "      <th>tomatoFresh</th>\n",
       "      <th>tomatoRotten</th>\n",
       "      <th>...</th>\n",
       "      <th>News</th>\n",
       "      <th>Horror</th>\n",
       "      <th>Biography</th>\n",
       "      <th>Adventure</th>\n",
       "      <th>Documentary</th>\n",
       "      <th>Musical</th>\n",
       "      <th>Short</th>\n",
       "      <th>History</th>\n",
       "      <th>Family</th>\n",
       "      <th>Sport</th>\n",
       "    </tr>\n",
       "  </thead>\n",
       "  <tbody>\n",
       "    <tr>\n",
       "      <th>12</th>\n",
       "      <td>2005</td>\n",
       "      <td>96.0</td>\n",
       "      <td>9.0</td>\n",
       "      <td>2.3</td>\n",
       "      <td>37613.0</td>\n",
       "      <td>1.0</td>\n",
       "      <td>1.7</td>\n",
       "      <td>117.0</td>\n",
       "      <td>1.0</td>\n",
       "      <td>116.0</td>\n",
       "      <td>...</td>\n",
       "      <td>0</td>\n",
       "      <td>1</td>\n",
       "      <td>0</td>\n",
       "      <td>0</td>\n",
       "      <td>0</td>\n",
       "      <td>0</td>\n",
       "      <td>0</td>\n",
       "      <td>0</td>\n",
       "      <td>0</td>\n",
       "      <td>0</td>\n",
       "    </tr>\n",
       "    <tr>\n",
       "      <th>20</th>\n",
       "      <td>2005</td>\n",
       "      <td>95.0</td>\n",
       "      <td>27.0</td>\n",
       "      <td>4.6</td>\n",
       "      <td>22611.0</td>\n",
       "      <td>11.0</td>\n",
       "      <td>3.3</td>\n",
       "      <td>116.0</td>\n",
       "      <td>13.0</td>\n",
       "      <td>103.0</td>\n",
       "      <td>...</td>\n",
       "      <td>0</td>\n",
       "      <td>0</td>\n",
       "      <td>0</td>\n",
       "      <td>1</td>\n",
       "      <td>0</td>\n",
       "      <td>0</td>\n",
       "      <td>0</td>\n",
       "      <td>0</td>\n",
       "      <td>1</td>\n",
       "      <td>0</td>\n",
       "    </tr>\n",
       "    <tr>\n",
       "      <th>26</th>\n",
       "      <td>2005</td>\n",
       "      <td>118.0</td>\n",
       "      <td>37.0</td>\n",
       "      <td>5.7</td>\n",
       "      <td>59443.0</td>\n",
       "      <td>30.0</td>\n",
       "      <td>4.6</td>\n",
       "      <td>169.0</td>\n",
       "      <td>50.0</td>\n",
       "      <td>119.0</td>\n",
       "      <td>...</td>\n",
       "      <td>0</td>\n",
       "      <td>0</td>\n",
       "      <td>0</td>\n",
       "      <td>0</td>\n",
       "      <td>0</td>\n",
       "      <td>0</td>\n",
       "      <td>0</td>\n",
       "      <td>0</td>\n",
       "      <td>0</td>\n",
       "      <td>0</td>\n",
       "    </tr>\n",
       "    <tr>\n",
       "      <th>27</th>\n",
       "      <td>2005</td>\n",
       "      <td>105.0</td>\n",
       "      <td>53.0</td>\n",
       "      <td>5.5</td>\n",
       "      <td>13197.0</td>\n",
       "      <td>37.0</td>\n",
       "      <td>5.3</td>\n",
       "      <td>115.0</td>\n",
       "      <td>43.0</td>\n",
       "      <td>72.0</td>\n",
       "      <td>...</td>\n",
       "      <td>0</td>\n",
       "      <td>0</td>\n",
       "      <td>0</td>\n",
       "      <td>0</td>\n",
       "      <td>0</td>\n",
       "      <td>0</td>\n",
       "      <td>0</td>\n",
       "      <td>0</td>\n",
       "      <td>0</td>\n",
       "      <td>0</td>\n",
       "    </tr>\n",
       "    <tr>\n",
       "      <th>28</th>\n",
       "      <td>2005</td>\n",
       "      <td>106.0</td>\n",
       "      <td>54.0</td>\n",
       "      <td>6.4</td>\n",
       "      <td>8427.0</td>\n",
       "      <td>54.0</td>\n",
       "      <td>5.8</td>\n",
       "      <td>119.0</td>\n",
       "      <td>64.0</td>\n",
       "      <td>55.0</td>\n",
       "      <td>...</td>\n",
       "      <td>0</td>\n",
       "      <td>0</td>\n",
       "      <td>0</td>\n",
       "      <td>0</td>\n",
       "      <td>0</td>\n",
       "      <td>0</td>\n",
       "      <td>0</td>\n",
       "      <td>0</td>\n",
       "      <td>1</td>\n",
       "      <td>0</td>\n",
       "    </tr>\n",
       "  </tbody>\n",
       "</table>\n",
       "<p>5 rows × 46 columns</p>\n",
       "</div>"
      ],
      "text/plain": [
       "    Year  Runtime  Metascore  imdbRating  imdbVotes  tomatoMeter  \\\n",
       "12  2005     96.0        9.0         2.3    37613.0          1.0   \n",
       "20  2005     95.0       27.0         4.6    22611.0         11.0   \n",
       "26  2005    118.0       37.0         5.7    59443.0         30.0   \n",
       "27  2005    105.0       53.0         5.5    13197.0         37.0   \n",
       "28  2005    106.0       54.0         6.4     8427.0         54.0   \n",
       "\n",
       "    tomatoRating  tomatoReviews  tomatoFresh  tomatoRotten  ...    News  \\\n",
       "12           1.7          117.0          1.0         116.0  ...       0   \n",
       "20           3.3          116.0         13.0         103.0  ...       0   \n",
       "26           4.6          169.0         50.0         119.0  ...       0   \n",
       "27           5.3          115.0         43.0          72.0  ...       0   \n",
       "28           5.8          119.0         64.0          55.0  ...       0   \n",
       "\n",
       "    Horror  Biography  Adventure  Documentary  Musical  Short  History  \\\n",
       "12       1          0          0            0        0      0        0   \n",
       "20       0          0          1            0        0      0        0   \n",
       "26       0          0          0            0        0      0        0   \n",
       "27       0          0          0            0        0      0        0   \n",
       "28       0          0          0            0        0      0        0   \n",
       "\n",
       "    Family  Sport  \n",
       "12       0      0  \n",
       "20       1      0  \n",
       "26       0      0  \n",
       "27       0      0  \n",
       "28       1      0  \n",
       "\n",
       "[5 rows x 46 columns]"
      ]
     },
     "execution_count": 58,
     "metadata": {},
     "output_type": "execute_result"
    }
   ],
   "source": [
    "X=X.loc[:,X.columns !='Unnamed: 0']\n",
    "#X=X.reset_index()\n",
    "#X=X.loc[:,X.columns !='index']\n",
    "X.head()"
   ]
  },
  {
   "cell_type": "code",
   "execution_count": 59,
   "metadata": {},
   "outputs": [
    {
     "data": {
      "text/plain": [
       "count    3.163000e+03\n",
       "mean     9.565995e+07\n",
       "std      1.795087e+08\n",
       "min      0.000000e+00\n",
       "25%      2.376027e+06\n",
       "50%      2.988264e+07\n",
       "75%      1.022844e+08\n",
       "max      2.783919e+09\n",
       "Name: Gross, dtype: float64"
      ]
     },
     "execution_count": 59,
     "metadata": {},
     "output_type": "execute_result"
    }
   ],
   "source": [
    "Y=movies_new['Gross']\n",
    "Y.head()\n",
    "Y.describe()"
   ]
  },
  {
   "cell_type": "code",
   "execution_count": 60,
   "metadata": {},
   "outputs": [
    {
     "name": "stdout",
     "output_type": "stream",
     "text": [
      "       Year  Runtime  Metascore  imdbRating  imdbVotes  tomatoMeter  \\\n",
      "39402  2009    115.0       49.0         6.6   285502.0         33.0   \n",
      "39787  2007    100.0       78.0         7.0   211995.0         70.0   \n",
      "10136  2009     99.0       56.0         7.2    29127.0         64.0   \n",
      "40186  2004     93.0       47.0         5.7     3791.0         61.0   \n",
      "6491   2004    104.0       65.0         7.3   168149.0         68.0   \n",
      "\n",
      "       tomatoRating  tomatoReviews  tomatoFresh  tomatoRotten  ...    News  \\\n",
      "39402           5.0          268.0         88.0         180.0  ...       0   \n",
      "39787           6.6          186.0        131.0          55.0  ...       0   \n",
      "10136           6.0          128.0         82.0          46.0  ...       0   \n",
      "40186           6.0           67.0         41.0          26.0  ...       0   \n",
      "6491            6.6          203.0        138.0          65.0  ...       0   \n",
      "\n",
      "       Horror  Biography  Adventure  Documentary  Musical  Short  History  \\\n",
      "39402       0          0          1            0        0      0        0   \n",
      "39787       1          0          0            0        0      0        0   \n",
      "10136       0          0          0            0        0      0        0   \n",
      "40186       0          0          0            0        0      0        0   \n",
      "6491        0          0          0            0        0      0        0   \n",
      "\n",
      "       Family  Sport  \n",
      "39402       0      0  \n",
      "39787       0      0  \n",
      "10136       0      0  \n",
      "40186       0      0  \n",
      "6491        0      0  \n",
      "\n",
      "[5 rows x 46 columns]\n",
      "39402    365491792.0\n",
      "39787     64232714.0\n",
      "10136      2828590.0\n",
      "40186       463730.0\n",
      "6491     115476509.0\n",
      "Name: Gross, dtype: float64\n",
      "(2530, 46)\n"
     ]
    },
    {
     "name": "stderr",
     "output_type": "stream",
     "text": [
      "/Users/saarthak/anaconda3/lib/python3.6/site-packages/sklearn/cross_validation.py:41: DeprecationWarning: This module was deprecated in version 0.18 in favor of the model_selection module into which all the refactored classes and functions are moved. Also note that the interface of the new CV iterators are different from that of this module. This module will be removed in 0.20.\n",
      "  \"This module will be removed in 0.20.\", DeprecationWarning)\n"
     ]
    }
   ],
   "source": [
    "from sklearn.cross_validation import train_test_split\n",
    "X_train, X_test, Y_train, Y_test = train_test_split(X, Y, test_size=0.2, random_state=42)\n",
    "print(X_train.head())\n",
    "print(Y_train.head())\n",
    "print(X_train.shape)"
   ]
  },
  {
   "cell_type": "code",
   "execution_count": 61,
   "metadata": {},
   "outputs": [
    {
     "data": {
      "text/plain": [
       "(3163, 46)"
      ]
     },
     "execution_count": 61,
     "metadata": {},
     "output_type": "execute_result"
    }
   ],
   "source": [
    "X.shape"
   ]
  },
  {
   "cell_type": "markdown",
   "metadata": {},
   "source": [
    "# Linear Regression"
   ]
  },
  {
   "cell_type": "code",
   "execution_count": 62,
   "metadata": {},
   "outputs": [
    {
     "name": "stdout",
     "output_type": "stream",
     "text": [
      "Linear Model: LinearRegression(copy_X=True, fit_intercept=True, n_jobs=1, normalize=True)\n",
      "coeffecients: [-4.07397201e+06  2.98429531e+04  1.36034676e+05  9.87551915e+05\n",
      "  3.45385386e+01  1.89399738e+05 -1.45542209e+06  6.65014910e+17\n",
      " -6.65014910e+17 -6.65014910e+17 -2.37112819e+05  6.28734794e+06\n",
      " -4.50613330e-01  7.95079982e-01  2.04958197e+00  5.91595050e+06\n",
      "  7.83500535e+04  7.41256801e+06 -6.75609203e+06  2.69550279e+07\n",
      " -9.33042999e+17  2.10874633e+06 -1.09940618e+07 -5.07538396e+06\n",
      " -3.15590250e+06  8.12546206e+06 -3.48378950e+05 -1.78270632e+07\n",
      " -4.66592426e+06  1.73917020e+06  8.61863528e+06 -1.10141160e+16\n",
      " -2.37677309e+06 -3.40998839e+15  4.96747904e+06 -4.02237610e+13\n",
      " -1.80823301e+07  2.58759445e+06 -9.11761446e+06  9.44507918e+06\n",
      "  7.62071139e+06  7.75766502e+06  2.06986856e+07 -8.34795626e+05\n",
      " -6.97200297e+06 -2.55726806e+07]\n",
      "Intercept: -3727377409.9080353\n"
     ]
    }
   ],
   "source": [
    "from sklearn.linear_model import LinearRegression\n",
    "model_linear=LinearRegression(normalize=True)\n",
    "model_linear.fit(X_train, Y_train)\n",
    "print(\"Linear Model:\", model_linear)\n",
    "print(\"coeffecients:\", model_linear.coef_)\n",
    "print(\"Intercept:\", model_linear.intercept_)"
   ]
  },
  {
   "cell_type": "code",
   "execution_count": 63,
   "metadata": {},
   "outputs": [
    {
     "name": "stdout",
     "output_type": "stream",
     "text": [
      "R squared value: 0.9171104272939532\n"
     ]
    }
   ],
   "source": [
    "print('R squared value:', model_linear.score(X_test, Y_test))"
   ]
  },
  {
   "cell_type": "code",
   "execution_count": 64,
   "metadata": {},
   "outputs": [],
   "source": [
    "check=pd.read_csv(\"check.csv\")"
   ]
  },
  {
   "cell_type": "code",
   "execution_count": 71,
   "metadata": {},
   "outputs": [
    {
     "data": {
      "text/html": [
       "<div>\n",
       "<style scoped>\n",
       "    .dataframe tbody tr th:only-of-type {\n",
       "        vertical-align: middle;\n",
       "    }\n",
       "\n",
       "    .dataframe tbody tr th {\n",
       "        vertical-align: top;\n",
       "    }\n",
       "\n",
       "    .dataframe thead th {\n",
       "        text-align: right;\n",
       "    }\n",
       "</style>\n",
       "<table border=\"1\" class=\"dataframe\">\n",
       "  <thead>\n",
       "    <tr style=\"text-align: right;\">\n",
       "      <th></th>\n",
       "      <th>Year</th>\n",
       "      <th>Runtime</th>\n",
       "      <th>Metascore</th>\n",
       "      <th>imdbRating</th>\n",
       "      <th>imdbVotes</th>\n",
       "      <th>tomatoMeter</th>\n",
       "      <th>tomatoRating</th>\n",
       "      <th>tomatoReviews</th>\n",
       "      <th>tomatoFresh</th>\n",
       "      <th>tomatoRotten</th>\n",
       "      <th>...</th>\n",
       "      <th>Short</th>\n",
       "      <th>Comedy</th>\n",
       "      <th>Documentary</th>\n",
       "      <th>Drama</th>\n",
       "      <th>Western</th>\n",
       "      <th>Adult</th>\n",
       "      <th>Horror</th>\n",
       "      <th>Talk-Show</th>\n",
       "      <th>Thriller</th>\n",
       "      <th>Action</th>\n",
       "    </tr>\n",
       "  </thead>\n",
       "  <tbody>\n",
       "    <tr>\n",
       "      <th>0</th>\n",
       "      <td>NaN</td>\n",
       "      <td>NaN</td>\n",
       "      <td>NaN</td>\n",
       "      <td>NaN</td>\n",
       "      <td>NaN</td>\n",
       "      <td>NaN</td>\n",
       "      <td>NaN</td>\n",
       "      <td>NaN</td>\n",
       "      <td>NaN</td>\n",
       "      <td>NaN</td>\n",
       "      <td>...</td>\n",
       "      <td>NaN</td>\n",
       "      <td>NaN</td>\n",
       "      <td>NaN</td>\n",
       "      <td>NaN</td>\n",
       "      <td>NaN</td>\n",
       "      <td>NaN</td>\n",
       "      <td>NaN</td>\n",
       "      <td>NaN</td>\n",
       "      <td>NaN</td>\n",
       "      <td>NaN</td>\n",
       "    </tr>\n",
       "    <tr>\n",
       "      <th>1</th>\n",
       "      <td>2018.0</td>\n",
       "      <td>120 min</td>\n",
       "      <td>12.0</td>\n",
       "      <td>6.0</td>\n",
       "      <td>201.0</td>\n",
       "      <td>25.0</td>\n",
       "      <td>4.0</td>\n",
       "      <td>60.0</td>\n",
       "      <td>20.0</td>\n",
       "      <td>29.0</td>\n",
       "      <td>...</td>\n",
       "      <td>0.0</td>\n",
       "      <td>0.0</td>\n",
       "      <td>0.0</td>\n",
       "      <td>1.0</td>\n",
       "      <td>0.0</td>\n",
       "      <td>0.0</td>\n",
       "      <td>0.0</td>\n",
       "      <td>0.0</td>\n",
       "      <td>0.0</td>\n",
       "      <td>0.0</td>\n",
       "    </tr>\n",
       "  </tbody>\n",
       "</table>\n",
       "<p>2 rows × 46 columns</p>\n",
       "</div>"
      ],
      "text/plain": [
       "     Year  Runtime  Metascore  imdbRating  imdbVotes  tomatoMeter  \\\n",
       "0     NaN      NaN        NaN         NaN        NaN          NaN   \n",
       "1  2018.0  120 min       12.0         6.0      201.0         25.0   \n",
       "\n",
       "   tomatoRating  tomatoReviews  tomatoFresh  tomatoRotten   ...    Short  \\\n",
       "0           NaN            NaN          NaN           NaN   ...      NaN   \n",
       "1           4.0           60.0         20.0          29.0   ...      0.0   \n",
       "\n",
       "   Comedy  Documentary  Drama  Western  Adult  Horror  Talk-Show  Thriller  \\\n",
       "0     NaN          NaN    NaN      NaN    NaN     NaN        NaN       NaN   \n",
       "1     0.0          0.0    1.0      0.0    0.0     0.0        0.0       0.0   \n",
       "\n",
       "   Action  \n",
       "0     NaN  \n",
       "1     0.0  \n",
       "\n",
       "[2 rows x 46 columns]"
      ]
     },
     "execution_count": 71,
     "metadata": {},
     "output_type": "execute_result"
    }
   ],
   "source": [
    "check"
   ]
  },
  {
   "cell_type": "code",
   "execution_count": 72,
   "metadata": {},
   "outputs": [],
   "source": [
    "check=check.drop(0,axis=0)"
   ]
  },
  {
   "cell_type": "code",
   "execution_count": 73,
   "metadata": {},
   "outputs": [
    {
     "data": {
      "text/plain": [
       "(1, 46)"
      ]
     },
     "execution_count": 73,
     "metadata": {},
     "output_type": "execute_result"
    }
   ],
   "source": [
    "check.shape"
   ]
  },
  {
   "cell_type": "code",
   "execution_count": 78,
   "metadata": {},
   "outputs": [],
   "source": [
    "check['Runtime']=120\n",
    "check['Mystery']=0"
   ]
  },
  {
   "cell_type": "code",
   "execution_count": 79,
   "metadata": {},
   "outputs": [
    {
     "data": {
      "text/html": [
       "<div>\n",
       "<style scoped>\n",
       "    .dataframe tbody tr th:only-of-type {\n",
       "        vertical-align: middle;\n",
       "    }\n",
       "\n",
       "    .dataframe tbody tr th {\n",
       "        vertical-align: top;\n",
       "    }\n",
       "\n",
       "    .dataframe thead th {\n",
       "        text-align: right;\n",
       "    }\n",
       "</style>\n",
       "<table border=\"1\" class=\"dataframe\">\n",
       "  <thead>\n",
       "    <tr style=\"text-align: right;\">\n",
       "      <th></th>\n",
       "      <th>Year</th>\n",
       "      <th>Runtime</th>\n",
       "      <th>Metascore</th>\n",
       "      <th>imdbRating</th>\n",
       "      <th>imdbVotes</th>\n",
       "      <th>tomatoMeter</th>\n",
       "      <th>tomatoRating</th>\n",
       "      <th>tomatoReviews</th>\n",
       "      <th>tomatoFresh</th>\n",
       "      <th>tomatoRotten</th>\n",
       "      <th>...</th>\n",
       "      <th>Short</th>\n",
       "      <th>Comedy</th>\n",
       "      <th>Documentary</th>\n",
       "      <th>Drama</th>\n",
       "      <th>Western</th>\n",
       "      <th>Adult</th>\n",
       "      <th>Horror</th>\n",
       "      <th>Talk-Show</th>\n",
       "      <th>Thriller</th>\n",
       "      <th>Action</th>\n",
       "    </tr>\n",
       "  </thead>\n",
       "  <tbody>\n",
       "    <tr>\n",
       "      <th>1</th>\n",
       "      <td>2018.0</td>\n",
       "      <td>120</td>\n",
       "      <td>12.0</td>\n",
       "      <td>6.0</td>\n",
       "      <td>201.0</td>\n",
       "      <td>25.0</td>\n",
       "      <td>4.0</td>\n",
       "      <td>60.0</td>\n",
       "      <td>20.0</td>\n",
       "      <td>29.0</td>\n",
       "      <td>...</td>\n",
       "      <td>0.0</td>\n",
       "      <td>0.0</td>\n",
       "      <td>0.0</td>\n",
       "      <td>1.0</td>\n",
       "      <td>0.0</td>\n",
       "      <td>0.0</td>\n",
       "      <td>0.0</td>\n",
       "      <td>0.0</td>\n",
       "      <td>0.0</td>\n",
       "      <td>0.0</td>\n",
       "    </tr>\n",
       "  </tbody>\n",
       "</table>\n",
       "<p>1 rows × 46 columns</p>\n",
       "</div>"
      ],
      "text/plain": [
       "     Year  Runtime  Metascore  imdbRating  imdbVotes  tomatoMeter  \\\n",
       "1  2018.0      120       12.0         6.0      201.0         25.0   \n",
       "\n",
       "   tomatoRating  tomatoReviews  tomatoFresh  tomatoRotten   ...    Short  \\\n",
       "1           4.0           60.0         20.0          29.0   ...      0.0   \n",
       "\n",
       "   Comedy  Documentary  Drama  Western  Adult  Horror  Talk-Show  Thriller  \\\n",
       "1     0.0          0.0    1.0      0.0    0.0     0.0        0.0       0.0   \n",
       "\n",
       "   Action  \n",
       "1     0.0  \n",
       "\n",
       "[1 rows x 46 columns]"
      ]
     },
     "execution_count": 79,
     "metadata": {},
     "output_type": "execute_result"
    }
   ],
   "source": [
    "check"
   ]
  },
  {
   "cell_type": "code",
   "execution_count": 80,
   "metadata": {},
   "outputs": [],
   "source": [
    "Gross_new=model_linear.predict(check)"
   ]
  },
  {
   "cell_type": "code",
   "execution_count": 82,
   "metadata": {},
   "outputs": [
    {
     "name": "stdout",
     "output_type": "stream",
     "text": [
      "[7.31512379e+18]\n"
     ]
    }
   ],
   "source": [
    "print(Gross_new)"
   ]
  },
  {
   "cell_type": "code",
   "execution_count": 64,
   "metadata": {},
   "outputs": [
    {
     "name": "stdout",
     "output_type": "stream",
     "text": [
      "[1, 201, 401, 601, 801, 1001, 1201, 1401, 1601, 1801, 2001, 2201]\n",
      "<class 'list'>\n",
      "[1, 201, 401, 601, 801, 1001, 1201, 1401, 1601, 1801, 2001, 2201, 2530]\n"
     ]
    }
   ],
   "source": [
    "train_set=list(range(1,2400,200))\n",
    "print(train_set)\n",
    "print(type(train_set))\n",
    "train_set.append(2530)\n",
    "print(train_set)"
   ]
  },
  {
   "cell_type": "code",
   "execution_count": 65,
   "metadata": {},
   "outputs": [],
   "source": [
    "from sklearn.model_selection import learning_curve\n",
    "train_sizes, train_scores, validation_scores = learning_curve(\n",
    "                                                   estimator = LinearRegression(), X = X,\n",
    "                                                   y = Y, train_sizes = train_set, cv = 5,\n",
    "                                                   scoring = 'neg_mean_squared_error')"
   ]
  },
  {
   "cell_type": "code",
   "execution_count": 66,
   "metadata": {},
   "outputs": [
    {
     "name": "stdout",
     "output_type": "stream",
     "text": [
      "Mean training scores\n",
      "\n",
      " 1      -0.000000e+00\n",
      "201     1.261240e+15\n",
      "401     2.441264e+15\n",
      "601     2.450539e+15\n",
      "801     2.428710e+15\n",
      "1001    2.603220e+15\n",
      "1201    2.885042e+15\n",
      "1401    2.786037e+15\n",
      "1601    2.808316e+15\n",
      "1801    2.838685e+15\n",
      "2001    2.776394e+15\n",
      "2201    2.708004e+15\n",
      "2530    2.626402e+15\n",
      "dtype: float64\n",
      "\n",
      " ----------------------------------------\n",
      "\n",
      "Mean validation scores\n",
      "\n",
      " 1       7.098710e+16\n",
      "201     4.079537e+15\n",
      "401     3.964585e+15\n",
      "601     3.344180e+15\n",
      "801     3.095917e+15\n",
      "1001    2.918631e+15\n",
      "1201    2.997242e+15\n",
      "1401    2.972188e+15\n",
      "1601    2.938928e+15\n",
      "1801    2.897074e+15\n",
      "2001    2.897190e+15\n",
      "2201    2.873631e+15\n",
      "2530    2.842141e+15\n",
      "dtype: float64\n"
     ]
    }
   ],
   "source": [
    "train_scores_mean = -train_scores.mean(axis = 1)\n",
    "validation_scores_mean = -validation_scores.mean(axis = 1)\n",
    "\n",
    "print('Mean training scores\\n\\n', pd.Series(train_scores_mean, index = train_sizes))\n",
    "print('\\n', '-' * 40) # separator\n",
    "print('\\nMean validation scores\\n\\n',pd.Series(validation_scores_mean, index = train_sizes))"
   ]
  },
  {
   "cell_type": "code",
   "execution_count": 67,
   "metadata": {},
   "outputs": [
    {
     "data": {
      "image/png": "[encoded data removed]",
      "text/plain": [
       "<Figure size 576x396 with 1 Axes>"
      ]
     },
     "metadata": {},
     "output_type": "display_data"
    }
   ],
   "source": [
    "import matplotlib.pyplot as plt\n",
    "%matplotlib inline\n",
    "\n",
    "plt.style.use('seaborn')\n",
    "\n",
    "plt.plot(train_set, train_scores_mean, label = 'Training error')\n",
    "plt.plot(train_set, validation_scores_mean, label = 'Validation error')\n",
    "\n",
    "plt.ylabel('MSE', fontsize = 14)\n",
    "plt.xlabel('Training set size', fontsize = 14)\n",
    "plt.title('Learning curves for a linear regression model', fontsize = 18, y = 1.03)\n",
    "plt.legend()\n",
    "#plt.ylim(0,40)\n",
    "plt.show()"
   ]
  },
  {
   "cell_type": "code",
   "execution_count": 68,
   "metadata": {},
   "outputs": [
    {
     "data": {
      "image/png": "[encoded data removed]",
      "text/plain": [
       "<Figure size 576x396 with 1 Axes>"
      ]
     },
     "metadata": {},
     "output_type": "display_data"
    }
   ],
   "source": [
    "plt.plot(train_sizes,-validation_scores)\n",
    "plt.ylabel('validation Scores')\n",
    "plt.xlabel('Train/Test Size')\n",
    "plt.title(\"Validation Scores Vs Test/Train Split Size\")\n",
    "plt.show()"
   ]
  },
  {
   "cell_type": "code",
   "execution_count": 69,
   "metadata": {},
   "outputs": [
    {
     "name": "stdout",
     "output_type": "stream",
     "text": [
      "[  1.10918387e+08   4.34800781e+06   1.48113422e+07   2.93102102e+07\n",
      "   3.36837666e+07   5.78207480e+07  -3.05293421e+06   1.29687944e+07\n",
      "   4.16183012e+08  -7.72271876e+06   3.88877384e+07   1.26797108e+08\n",
      "   4.68636341e+08   8.90960800e+07   1.10340788e+08   7.89180081e+08\n",
      "  -1.68086907e+07  -1.88532888e+07   9.04458231e+08   4.10818191e+07\n",
      "   8.16379507e+07   3.72292119e+08   8.95280572e+07   4.65036377e+07\n",
      "  -3.59810175e+07   1.43715293e+08   1.01667137e+07   2.66683965e+08\n",
      "   1.48194395e+06   2.26157320e+08  -9.22327125e+06  -2.80794059e+05\n",
      "  -1.78384889e+07   2.11375659e+08  -2.12986321e+07   1.03645964e+08\n",
      "  -1.76121710e+07   1.62656136e+07  -1.40732829e+07   1.43634843e+07\n",
      "   3.92641737e+07   1.32796013e+08   8.48955474e+06   5.39408848e+06\n",
      "  -2.94372377e+06  -1.03836248e+07   5.61587448e+06  -7.93239125e+06\n",
      "   1.83948363e+06  -1.58150943e+07   1.23556072e+07   2.06226294e+06\n",
      "   4.46282530e+08  -1.60996026e+07   4.46813427e+08   9.03452891e+06\n",
      "   2.42335194e+07   4.65743101e+06   2.99259396e+08   1.03972506e+08\n",
      "   2.06284312e+07   8.75325845e+07  -3.49571406e+06   1.24899065e+08\n",
      "  -2.11363837e+07   1.20170304e+07  -1.29652591e+07   2.66306235e+06\n",
      "   8.69642697e+07  -1.14013283e+06   2.72744026e+08  -1.68861548e+07\n",
      "   1.29841849e+08   7.68373048e+07   1.45033495e+07   2.99569649e+07\n",
      "   6.05684580e+07   8.83541668e+07   5.34175684e+08   3.29987717e+07\n",
      "  -1.24118442e+07   2.36905196e+08   6.36853815e+08   2.44438940e+08\n",
      "   4.77244543e+07   5.31638966e+07   4.83275600e+08  -2.31589375e+07\n",
      "   1.77128385e+07   5.36009519e+07   5.93444762e+06   7.38990797e+07\n",
      "   7.88683496e+06  -1.64220980e+07   9.34441149e+07   2.84745884e+08\n",
      "   2.32742575e+07  -9.35922512e+06   1.08839531e+08   8.24702034e+07\n",
      "   1.81963264e+08   4.58338111e+08   4.62278676e+07   3.37436622e+08\n",
      "   3.58545368e+07  -2.51090709e+07   2.98660285e+07   1.18181603e+05\n",
      "   6.93292159e+07   8.82059593e+07   3.62489511e+07   1.16933886e+07\n",
      "  -3.39148619e+06  -2.03464016e+07   1.09989100e+08   2.07799999e+07\n",
      "  -6.89840836e+06  -6.20041658e+06   7.02016025e+06   3.21745699e+07\n",
      "   2.26333058e+08   2.99256730e+08   2.44496530e+08   1.93818481e+09\n",
      "   1.70360031e+07   1.91566711e+08  -5.82876179e+06   3.16306017e+08\n",
      "   2.77086951e+07   7.13339297e+06   1.51197172e+08   1.31762222e+07\n",
      "   1.36351288e+08   4.50997736e+07  -8.65310546e+06   1.42760737e+07\n",
      "  -2.51882623e+07  -7.33735356e+06   8.43148626e+06  -2.03234381e+07\n",
      "   8.61867305e+07   1.85675408e+08   2.37734920e+08   1.16018592e+08\n",
      "   3.28276631e+06  -1.43438041e+07   2.30907624e+07  -1.84761653e+05\n",
      "   1.72518965e+08   2.49965655e+07  -5.65231344e+07   3.31873566e+07\n",
      "   3.21879242e+07   1.49299903e+07   6.89268999e+06   4.24058832e+07\n",
      "   4.40534624e+07   1.77891403e+08   7.09831300e+08   3.13703712e+08\n",
      "  -2.17924600e+07  -1.47008193e+07  -6.15595520e+06  -1.29396185e+07\n",
      "  -2.29511944e+06   2.75610027e+07   8.40402445e+05  -2.64056592e+07\n",
      "   3.95176990e+06   2.91284318e+07   2.44001038e+07   5.04708922e+07\n",
      "   1.51510855e+07   3.34501505e+07   1.33430171e+07   1.52165578e+08\n",
      "   1.61708615e+07   2.12900516e+08  -1.61131752e+07  -9.56228443e+05\n",
      "   4.14266067e+06   4.19714259e+07   5.66314514e+07  -2.02661296e+07\n",
      "   2.65864036e+07   6.05273255e+07   3.20810036e+07  -5.83971408e+06\n",
      "  -9.79495749e+06   9.93271842e+07  -9.76915613e+06   2.18015350e+06\n",
      "   2.62124528e+07   6.88301926e+07   6.12020751e+07   3.47414191e+08\n",
      "  -1.70225332e+07   1.11043206e+08   1.50710052e+06  -1.31882034e+07\n",
      "   1.27245531e+07  -6.27566360e+06   6.26532324e+07   9.38265588e+07\n",
      "   4.02288605e+08   5.18989997e+07   1.35632723e+07  -8.30809436e+06\n",
      "   1.07451467e+08   1.85858668e+08  -3.65888307e+06   1.53832247e+07\n",
      "   3.46996990e+07  -2.42140364e+07   2.27106841e+06   9.31077523e+06\n",
      "   7.65313574e+06  -1.04874937e+07  -1.30174842e+06   1.05209124e+09\n",
      "  -2.01422205e+07   8.12477047e+07  -1.37159554e+07   6.91183750e+07\n",
      "   8.02838961e+07   1.32674387e+08   4.12127668e+07  -1.47696220e+07\n",
      "  -1.81865280e+07   3.27314919e+07   1.71365842e+08   1.14349473e+08\n",
      "   5.96406804e+07   2.36869478e+08   3.27379921e+07  -1.22897627e+07\n",
      "  -8.75075142e+06   1.54195157e+06  -6.75131429e+06   1.43833161e+08\n",
      "   1.75240499e+07  -2.50041666e+07   1.47146595e+08   2.91078981e+07\n",
      "   1.64868619e+08   3.65637991e+08   4.40858325e+07   2.64481869e+06\n",
      "   2.82056515e+08   1.18638019e+07   1.04441156e+08   2.41502530e+05\n",
      "   5.08189493e+07   2.50428767e+07   8.41278551e+05   1.10053638e+08\n",
      "  -4.39080061e+07  -1.55382949e+07   8.62542749e+07   2.96878272e+07\n",
      "   8.49695597e+06   2.52468418e+07   5.32377956e+06  -1.92290386e+07\n",
      "   5.14038328e+08   6.08312600e+05   1.83848527e+07   1.42531371e+08\n",
      "   3.25004858e+08  -1.53573803e+07   6.08072281e+08  -1.41914244e+07\n",
      "  -2.15687819e+07  -5.16283352e+05   7.86542569e+08   9.64542930e+07\n",
      "   1.01172478e+06  -1.77566030e+07   3.94242841e+08   1.50190071e+08\n",
      "   2.39020775e+08   2.21502905e+06   2.14718598e+07  -8.06756736e+06\n",
      "   2.90559838e+07  -1.31964590e+06   7.50634441e+07   7.07873573e+08\n",
      "   1.63746722e+08   5.79297744e+07   1.02626813e+09   1.83123680e+07\n",
      "   5.27463791e+07  -2.10374940e+07   1.35933176e+08   4.08027798e+07\n",
      "   2.58010098e+08   1.12747614e+08   2.02135069e+07  -2.52480343e+07\n",
      "   1.14084999e+07  -1.10542545e+07  -2.48976094e+07   5.84592039e+07\n",
      "   2.19555472e+07   6.26902304e+07  -1.96497064e+07   3.77316573e+07\n",
      "   8.14568223e+07   6.93047431e+06  -1.32617984e+06   2.76868847e+08\n",
      "  -1.16646333e+07  -1.33942513e+07   2.31779252e+08   3.64648314e+07\n",
      "   2.29705771e+07   1.03419246e+08  -1.27331037e+07  -2.05357392e+07\n",
      "   1.14043311e+08  -1.48333095e+07  -2.69143957e+07   7.26492333e+06\n",
      "   1.74048738e+07   3.37962975e+07   5.44201343e+08  -8.57300397e+06\n",
      "  -2.09350569e+07   9.00073321e+07   1.52749446e+08  -8.86023784e+06\n",
      "   1.98099674e+07   1.71314944e+08  -6.29196675e+06   1.25158078e+08\n",
      "   3.34271572e+06  -1.94593267e+06   1.60260279e+08   9.98551959e+07\n",
      "   2.58471170e+08   2.58610782e+08   7.73206110e+06   5.62172568e+05\n",
      "   9.68732010e+07   1.30593672e+08   2.83094041e+07   1.27171865e+08\n",
      "   6.19215199e+07   3.03472417e+08  -4.77748865e+06   1.69948245e+07\n",
      "  -8.63861424e+06   2.31197815e+08  -1.18524287e+07   4.06503839e+08\n",
      "   5.88669299e+08  -4.00867208e+07   9.69674686e+07   7.86637146e+06\n",
      "  -1.26384174e+07  -7.86593364e+06   1.42669938e+08   1.92781301e+08\n",
      "  -1.17947453e+06  -3.22585915e+06   4.91911851e+07   8.93827978e+06\n",
      "   3.73818419e+08  -1.44722827e+06   2.32892279e+07   1.98008645e+06\n",
      "   1.84274827e+08  -5.21082567e+06   1.97379504e+08   2.52677226e+08\n",
      "   2.89374000e+07   1.14431976e+08   2.04734613e+08  -4.94025920e+06\n",
      "   1.47208866e+07   1.94132664e+08   2.56238053e+07   8.75545095e+07\n",
      "   2.08549377e+08   7.54653043e+07   2.99847351e+08   6.65009034e+07\n",
      "   6.89480852e+07  -2.99382403e+07  -2.82809706e+07  -2.09769751e+07\n",
      "  -6.53530198e+06  -2.21455828e+07   5.82946453e+07   8.90542878e+07\n",
      "   1.57968585e+08   2.79707156e+08   1.27268651e+08  -2.92059827e+07\n",
      "   5.82675567e+07   1.57662634e+06  -1.26926427e+07   6.13162562e+08\n",
      "  -2.01715044e+07  -4.19703042e+06   2.04650554e+08   7.63918840e+06\n",
      "  -1.30156459e+05   5.57061104e+08   3.87429611e+06   1.22266600e+07\n",
      "   7.61042179e+07   7.49999123e+07  -1.62812347e+07   1.17786186e+08\n",
      "   7.23239122e+06   6.20871488e+07   2.76788658e+06  -1.49130582e+07\n",
      "   2.78849927e+08   9.45266518e+07   7.41180248e+07   6.88249460e+06\n",
      "   2.95998582e+07  -2.88936045e+07   7.26094960e+07   5.57462986e+08\n",
      "   1.28050701e+07   1.03714219e+07   1.40979096e+08  -2.66774881e+07\n",
      "  -3.44061516e+07   3.83799464e+07  -3.71438609e+07  -1.87362852e+07\n",
      "   2.17559806e+08   9.28173067e+08   1.01988838e+08   9.26847785e+07\n",
      "   5.83714301e+07  -1.72162513e+07  -2.37735669e+06  -3.65547048e+06\n",
      "   1.17089172e+08  -1.11821105e+07   5.55793160e+08   1.43894131e+07\n",
      "   2.00367591e+08   6.56844608e+07   9.14449757e+07   1.32530793e+08\n",
      "   3.72132798e+08   1.36736893e+08  -6.75470396e+06   3.43090015e+07\n",
      "  -2.22743486e+07   6.51156354e+07  -2.96631162e+07   3.75780535e+08\n",
      "   5.65831153e+07   1.21835504e+07   5.76848294e+07   6.17501315e+07\n",
      "   3.50167549e+06   4.82173097e+08   1.07828603e+08   1.20341666e+08\n",
      "   5.89002588e+07   1.27814386e+07  -1.53928220e+07   4.31087248e+07\n",
      "   1.66788453e+08   1.35393922e+08   7.63967421e+07   4.59494247e+07\n",
      "  -7.42644736e+06   7.35834979e+06   1.35829275e+07   1.61791645e+08\n",
      "   5.41255832e+07   1.28375614e+08  -1.05230249e+07  -4.75245303e+06\n",
      "   5.58477182e+07   1.08707304e+07   7.52623887e+06   1.06630991e+06\n",
      "   1.75836447e+08  -5.31111208e+06   6.70123809e+07  -3.64511925e+06\n",
      "   1.78893367e+08   8.26934899e+07  -4.06895963e+06   3.06497656e+07\n",
      "   9.78425395e+06   4.72239383e+07  -1.30306315e+07  -8.30762656e+06\n",
      "   5.57104885e+07  -1.09299585e+06   6.25885251e+07   2.02466612e+08\n",
      "   1.85611088e+07  -8.17324747e+06  -7.43026184e+06   9.08808674e+07\n",
      "   1.65403534e+08   3.39727881e+08   2.60971109e+06   3.28955401e+07\n",
      "  -1.87756249e+06   1.11773271e+08  -2.05054193e+06   2.78140721e+07\n",
      "   1.18371271e+08  -8.06682257e+06  -3.77129747e+07  -1.29950031e+07\n",
      "   1.27074883e+08   7.84761640e+07   3.68986413e+07  -1.51773349e+07\n",
      "  -2.68865833e+07   2.71998925e+07   1.21377178e+07  -2.12409682e+07\n",
      "   3.37915600e+08   2.05503867e+08   4.25005039e+06   7.66703782e+06\n",
      "   2.09481196e+07   1.53287085e+08  -2.09665346e+06  -3.49281132e+07\n",
      "  -1.84063016e+07   4.77580972e+07  -2.26372853e+07   1.73207664e+08\n",
      "   9.94092188e+06   4.81718636e+08  -3.25616922e+07   4.91967703e+07\n",
      "  -1.88094580e+07  -1.38885574e+07   1.47203298e+07   3.46687936e+07\n",
      "   7.13377120e+05   1.22328765e+08   1.83423449e+08   3.44360091e+06\n",
      "   1.25955440e+07   1.65487906e+07   2.79698625e+08   1.35525123e+08\n",
      "   7.56654107e+07  -7.89492584e+06   3.34373783e+07   1.44919142e+07\n",
      "  -1.95045895e+06  -2.27913671e+07   3.17767245e+08   3.61804473e+07\n",
      "  -6.88198256e+06   2.11651247e+07   7.80380474e+08   1.28704220e+06\n",
      "   1.26363735e+07   5.42699824e+06  -8.44673472e+06   3.20467193e+07\n",
      "   8.59444725e+06   9.74966741e+06   3.85953056e+06  -3.90365139e+06\n",
      "  -1.25320344e+07   9.42413386e+07  -5.77732564e+06   1.72122426e+08\n",
      "   4.75312895e+07  -3.78664197e+07  -1.37383304e+07   1.32603264e+08\n",
      "   3.07925538e+08   2.43576860e+07   3.24317563e+07  -1.63075128e+07\n",
      "   6.30068459e+06   5.74975140e+06   1.16914240e+07   3.68997538e+08\n",
      "   5.94199763e+07   2.26336771e+08   4.29702005e+06  -7.22139153e+06\n",
      "   2.54690405e+07  -1.93885969e+07  -4.93273496e+06   1.14999669e+08\n",
      "   5.07556088e+07   1.11383904e+07   1.45844569e+08   1.43595360e+07\n",
      "  -2.53869547e+07   7.67959065e+07  -1.98306477e+07   3.14940316e+08\n",
      "   6.32686684e+07   4.45012629e+06   1.13075661e+09  -6.53047836e+06\n",
      "  -1.30964725e+07   4.32792672e+08  -7.31015463e+06  -6.17876801e+06\n",
      "   3.41786957e+07  -7.10405124e+06  -1.20701548e+07   1.04971824e+08\n",
      "  -1.31402230e+07  -1.35637556e+07   3.72046013e+07  -1.48631236e+06\n",
      "  -6.46715790e+06  -3.32838270e+07   9.58345252e+07  -2.68771111e+07\n",
      "   9.34320321e+07  -7.62670260e+06   9.33858213e+07   2.40835042e+08\n",
      "  -2.12390669e+07]\n"
     ]
    }
   ],
   "source": [
    "Y_predictions = model_linear.predict(X_test)\n",
    "#Y_predictions[Y_predictions<0]=0\n",
    "print(Y_predictions)"
   ]
  },
  {
   "cell_type": "code",
   "execution_count": 70,
   "metadata": {},
   "outputs": [
    {
     "data": {
      "image/png": "[encoded data removed]",
      "text/plain": [
       "<Figure size 576x396 with 1 Axes>"
      ]
     },
     "metadata": {},
     "output_type": "display_data"
    }
   ],
   "source": [
    "plt.plot(Y_test, Y_predictions,'ro')\n",
    "plt.xlabel('Actual values')\n",
    "plt.ylabel('Predicted values')\n",
    "plt.show()"
   ]
  },
  {
   "cell_type": "markdown",
   "metadata": {},
   "source": [
    "# BoxCox Transformation"
   ]
  },
  {
   "cell_type": "code",
   "execution_count": 71,
   "metadata": {},
   "outputs": [
    {
     "data": {
      "image/png": "[encoded data removed]",
      "text/plain": [
       "<Figure size 576x396 with 1 Axes>"
      ]
     },
     "metadata": {},
     "output_type": "display_data"
    },
    {
     "data": {
      "image/png": "[encoded data removed]",
      "text/plain": [
       "<Figure size 576x396 with 1 Axes>"
      ]
     },
     "metadata": {},
     "output_type": "display_data"
    },
    {
     "data": {
      "image/png": "[encoded data removed]",
      "text/plain": [
       "<Figure size 576x396 with 1 Axes>"
      ]
     },
     "metadata": {},
     "output_type": "display_data"
    },
    {
     "data": {
      "image/png": "[encoded data removed]",
      "text/plain": [
       "<Figure size 576x396 with 1 Axes>"
      ]
     },
     "metadata": {},
     "output_type": "display_data"
    },
    {
     "data": {
      "image/png": "[encoded data removed]",
      "text/plain": [
       "<Figure size 576x396 with 1 Axes>"
      ]
     },
     "metadata": {},
     "output_type": "display_data"
    },
    {
     "data": {
      "image/png": "[encoded data removed]",
      "text/plain": [
       "<Figure size 576x396 with 1 Axes>"
      ]
     },
     "metadata": {},
     "output_type": "display_data"
    },
    {
     "data": {
      "image/png": "[encoded data removed]",
      "text/plain": [
       "<Figure size 576x396 with 1 Axes>"
      ]
     },
     "metadata": {},
     "output_type": "display_data"
    },
    {
     "data": {
      "image/png": "[encoded data removed]",
      "text/plain": [
       "<Figure size 576x396 with 1 Axes>"
      ]
     },
     "metadata": {},
     "output_type": "display_data"
    },
    {
     "data": {
      "image/png": "[encoded data removed]",
      "text/plain": [
       "<Figure size 576x396 with 1 Axes>"
      ]
     },
     "metadata": {},
     "output_type": "display_data"
    },
    {
     "data": {
      "image/png": "[encoded data removed]",
      "text/plain": [
       "<Figure size 576x396 with 1 Axes>"
      ]
     },
     "metadata": {},
     "output_type": "display_data"
    },
    {
     "data": {
      "image/png": "[encoded data removed]",
      "text/plain": [
       "<Figure size 576x396 with 1 Axes>"
      ]
     },
     "metadata": {},
     "output_type": "display_data"
    },
    {
     "data": {
      "image/png": "[encoded data removed]",
      "text/plain": [
       "<Figure size 576x396 with 1 Axes>"
      ]
     },
     "metadata": {},
     "output_type": "display_data"
    },
    {
     "data": {
      "image/png": "[encoded data removed]",
      "text/plain": [
       "<Figure size 576x396 with 1 Axes>"
      ]
     },
     "metadata": {},
     "output_type": "display_data"
    },
    {
     "data": {
      "image/png": "[encoded data removed]",
      "text/plain": [
       "<Figure size 576x396 with 1 Axes>"
      ]
     },
     "metadata": {},
     "output_type": "display_data"
    },
    {
     "data": {
      "image/png": "[encoded data removed]",
      "text/plain": [
       "<Figure size 576x396 with 1 Axes>"
      ]
     },
     "metadata": {},
     "output_type": "display_data"
    },
    {
     "data": {
      "image/png": "[encoded data removed]",
      "text/plain": [
       "<Figure size 576x396 with 1 Axes>"
      ]
     },
     "metadata": {},
     "output_type": "display_data"
    },
    {
     "data": {
      "image/png": "[encoded data removed]",
      "text/plain": [
       "<Figure size 576x396 with 1 Axes>"
      ]
     },
     "metadata": {},
     "output_type": "display_data"
    },
    {
     "data": {
      "image/png": "[encoded data removed]",
      "text/plain": [
       "<Figure size 576x396 with 1 Axes>"
      ]
     },
     "metadata": {},
     "output_type": "display_data"
    },
    {
     "data": {
      "image/png": "[encoded data removed]",
      "text/plain": [
       "<Figure size 576x396 with 1 Axes>"
      ]
     },
     "metadata": {},
     "output_type": "display_data"
    },
    {
     "data": {
      "image/png": "[encoded data removed]",
      "text/plain": [
       "<Figure size 576x396 with 1 Axes>"
      ]
     },
     "metadata": {},
     "output_type": "display_data"
    },
    {
     "data": {
      "image/png": "[encoded data removed]",
      "text/plain": [
       "<Figure size 576x396 with 1 Axes>"
      ]
     },
     "metadata": {},
     "output_type": "display_data"
    },
    {
     "data": {
      "image/png": "[encoded data removed]",
      "text/plain": [
       "<Figure size 576x396 with 1 Axes>"
      ]
     },
     "metadata": {},
     "output_type": "display_data"
    },
    {
     "data": {
      "image/png": "[encoded data removed]",
      "text/plain": [
       "<Figure size 576x396 with 1 Axes>"
      ]
     },
     "metadata": {},
     "output_type": "display_data"
    },
    {
     "data": {
      "image/png": "[encoded data removed]",
      "text/plain": [
       "<Figure size 576x396 with 1 Axes>"
      ]
     },
     "metadata": {},
     "output_type": "display_data"
    },
    {
     "data": {
      "image/png": "[encoded data removed]",
      "text/plain": [
       "<Figure size 576x396 with 1 Axes>"
      ]
     },
     "metadata": {},
     "output_type": "display_data"
    },
    {
     "data": {
      "image/png": "[encoded data removed]",
      "text/plain": [
       "<Figure size 576x396 with 1 Axes>"
      ]
     },
     "metadata": {},
     "output_type": "display_data"
    },
    {
     "data": {
      "image/png": "[encoded data removed]",
      "text/plain": [
       "<Figure size 576x396 with 1 Axes>"
      ]
     },
     "metadata": {},
     "output_type": "display_data"
    },
    {
     "data": {
      "image/png": "[encoded data removed]",
      "text/plain": [
       "<Figure size 576x396 with 1 Axes>"
      ]
     },
     "metadata": {},
     "output_type": "display_data"
    },
    {
     "data": {
      "image/png": "[encoded data removed]",
      "text/plain": [
       "<Figure size 576x396 with 1 Axes>"
      ]
     },
     "metadata": {},
     "output_type": "display_data"
    },
    {
     "data": {
      "image/png": "[encoded data removed]",
      "text/plain": [
       "<Figure size 576x396 with 1 Axes>"
      ]
     },
     "metadata": {},
     "output_type": "display_data"
    },
    {
     "data": {
      "image/png": "[encoded data removed]",
      "text/plain": [
       "<Figure size 576x396 with 1 Axes>"
      ]
     },
     "metadata": {},
     "output_type": "display_data"
    },
    {
     "data": {
      "image/png": "[encoded data removed]",
      "text/plain": [
       "<Figure size 576x396 with 1 Axes>"
      ]
     },
     "metadata": {},
     "output_type": "display_data"
    },
    {
     "data": {
      "image/png": "[encoded data removed]",
      "text/plain": [
       "<Figure size 576x396 with 1 Axes>"
      ]
     },
     "metadata": {},
     "output_type": "display_data"
    },
    {
     "data": {
      "image/png": "[encoded data removed]",
      "text/plain": [
       "<Figure size 576x396 with 1 Axes>"
      ]
     },
     "metadata": {},
     "output_type": "display_data"
    },
    {
     "data": {
      "image/png": "[encoded data removed]",
      "text/plain": [
       "<Figure size 576x396 with 1 Axes>"
      ]
     },
     "metadata": {},
     "output_type": "display_data"
    },
    {
     "data": {
      "image/png": "[encoded data removed]",
      "text/plain": [
       "<Figure size 576x396 with 1 Axes>"
      ]
     },
     "metadata": {},
     "output_type": "display_data"
    },
    {
     "data": {
      "image/png": "[encoded data removed]",
      "text/plain": [
       "<Figure size 576x396 with 1 Axes>"
      ]
     },
     "metadata": {},
     "output_type": "display_data"
    },
    {
     "data": {
      "image/png": "[encoded data removed]",
      "text/plain": [
       "<Figure size 576x396 with 1 Axes>"
      ]
     },
     "metadata": {},
     "output_type": "display_data"
    },
    {
     "data": {
      "image/png": "[encoded data removed]",
      "text/plain": [
       "<Figure size 576x396 with 1 Axes>"
      ]
     },
     "metadata": {},
     "output_type": "display_data"
    },
    {
     "data": {
      "image/png": "[encoded data removed]",
      "text/plain": [
       "<Figure size 576x396 with 1 Axes>"
      ]
     },
     "metadata": {},
     "output_type": "display_data"
    },
    {
     "data": {
      "image/png": "[encoded data removed]",
      "text/plain": [
       "<Figure size 576x396 with 1 Axes>"
      ]
     },
     "metadata": {},
     "output_type": "display_data"
    },
    {
     "data": {
      "image/png": "[encoded data removed]",
      "text/plain": [
       "<Figure size 576x396 with 1 Axes>"
      ]
     },
     "metadata": {},
     "output_type": "display_data"
    },
    {
     "data": {
      "image/png": "[encoded data removed]",
      "text/plain": [
       "<Figure size 576x396 with 1 Axes>"
      ]
     },
     "metadata": {},
     "output_type": "display_data"
    },
    {
     "data": {
      "image/png": "[encoded data removed]",
      "text/plain": [
       "<Figure size 576x396 with 1 Axes>"
      ]
     },
     "metadata": {},
     "output_type": "display_data"
    },
    {
     "data": {
      "image/png": "[encoded data removed]",
      "text/plain": [
       "<Figure size 576x396 with 1 Axes>"
      ]
     },
     "metadata": {},
     "output_type": "display_data"
    },
    {
     "data": {
      "image/png": "[encoded data removed]",
      "text/plain": [
       "<Figure size 576x396 with 1 Axes>"
      ]
     },
     "metadata": {},
     "output_type": "display_data"
    }
   ],
   "source": [
    "for x in list(X.columns):\n",
    "    plt.hist(X[x], bins=20)\n",
    "    plt.title(x)\n",
    "    plt.show()"
   ]
  },
  {
   "cell_type": "code",
   "execution_count": 72,
   "metadata": {
    "scrolled": true
   },
   "outputs": [
    {
     "name": "stdout",
     "output_type": "stream",
     "text": [
      "['Year', 'Runtime', 'Year', 'Runtime', 'Metascore', 'imdbRating', 'imdbVotes', 'tomatoRating', 'tomatoReviews', 'Budget', 'Date']\n",
      "Year 1.9857534366e+35\n",
      "Runtime 0.0\n",
      "Year 1.9857534366e+35\n",
      "Runtime 0.0\n",
      "Metascore 0.0\n",
      "imdbRating 0.834617286995\n",
      "imdbVotes 1.89272577598\n",
      "tomatoRating 0.0\n",
      "tomatoReviews 1.7787678602\n",
      "Budget 16.3366186591\n",
      "Date 6.00131201157e+52\n"
     ]
    }
   ],
   "source": [
    "from scipy import stats\n",
    "XT = X.copy()\n",
    "\n",
    "l=['Year','Runtime','Year', 'Runtime', 'Metascore', 'imdbRating', 'imdbVotes', 'tomatoRating', 'tomatoReviews', 'Budget', 'Date']\n",
    "\n",
    "print(l)\n",
    "for i in l:\n",
    "    XT[i] = stats.boxcox(X[i])[0]\n",
    "    print(i,np.min(XT[i]))\n",
    "\n"
   ]
  },
  {
   "cell_type": "code",
   "execution_count": 73,
   "metadata": {},
   "outputs": [
    {
     "data": {
      "text/plain": [
       "count    3163.000000\n",
       "mean       51.945225\n",
       "std        25.727736\n",
       "min         0.000000\n",
       "25%        32.000000\n",
       "50%        51.945225\n",
       "75%        73.000000\n",
       "max       100.000000\n",
       "Name: tomatoMeter, dtype: float64"
      ]
     },
     "execution_count": 73,
     "metadata": {},
     "output_type": "execute_result"
    }
   ],
   "source": [
    "XT['tomatoMeter'].describe()"
   ]
  },
  {
   "cell_type": "code",
   "execution_count": 74,
   "metadata": {},
   "outputs": [
    {
     "name": "stdout",
     "output_type": "stream",
     "text": [
      "               Year     Runtime  Metascore  imdbRating  imdbVotes  \\\n",
      "39402  2.074915e+35  123.535636  41.696726   30.473692  54.893328   \n",
      "39787  2.052290e+35  106.974710  65.506066   34.845162  51.488156   \n",
      "10136  2.074915e+35  105.872435  47.493761   37.151762  33.228335   \n",
      "40186  2.018772e+35   99.263822  40.033403   21.794534  20.586820   \n",
      "6491   2.018772e+35  111.386118  54.896992   38.335528  48.972003   \n",
      "\n",
      "       tomatoMeter  tomatoRating  tomatoReviews  tomatoFresh  tomatoRotten  \\\n",
      "39402         33.0      4.614194     116.480760         88.0         180.0   \n",
      "39787         70.0      6.657590      86.126105        131.0          55.0   \n",
      "10136         64.0      5.882173      63.152381         82.0          46.0   \n",
      "40186         61.0      5.882173      36.720615         41.0          26.0   \n",
      "6491          68.0      6.657590      92.592763        138.0          65.0   \n",
      "\n",
      "        ...     History  Game-Show  Fantasy  Horror  Sci-Fi  Romance  \\\n",
      "39402   ...           0          0        0       0       1        0   \n",
      "39787   ...           0          0        0       1       1        0   \n",
      "10136   ...           0          0        0       0       0        1   \n",
      "40186   ...           0          0        0       0       0        0   \n",
      "6491    ...           0          0        0       0       0        1   \n",
      "\n",
      "       Documentary  Adult  Mystery  Musical  \n",
      "39402            0      0        0        0  \n",
      "39787            0      0        0        0  \n",
      "10136            0      0        0        0  \n",
      "40186            0      0        0        0  \n",
      "6491             0      0        0        0  \n",
      "\n",
      "[5 rows x 46 columns]\n",
      "39402    365491792.0\n",
      "39787     64232714.0\n",
      "10136      2828590.0\n",
      "40186       463730.0\n",
      "6491     115476509.0\n",
      "Name: Gross, dtype: float64\n"
     ]
    }
   ],
   "source": [
    "from sklearn.cross_validation import train_test_split\n",
    "XT_train, XT_test, Y_train, Y_test = train_test_split(XT, Y, test_size=0.2, random_state=42)\n",
    "print(XT_train.head())\n",
    "print(Y_train.head())"
   ]
  },
  {
   "cell_type": "code",
   "execution_count": 75,
   "metadata": {},
   "outputs": [
    {
     "name": "stdout",
     "output_type": "stream",
     "text": [
      "Linear Model: LinearRegression(copy_X=True, fit_intercept=True, n_jobs=1, normalize=True)\n",
      "coeffecients: [ -2.76886968e-27   2.79947240e+05   3.26964862e+04   7.21393394e+05\n",
      "  -3.79566800e+05   3.32091874e+05  -2.22639393e+06  -2.42938670e+06\n",
      "   9.68746123e+05   1.16339204e+06  -3.76106073e+05   4.53102830e+06\n",
      "  -6.92951398e-01   1.02743130e+05   2.27827779e+00   9.16147220e-45\n",
      "   6.18224415e+04   7.07597277e+06   0.00000000e+00   2.24367334e+07\n",
      "   4.35344446e+06  -1.17067498e+07   2.60010533e+07  -1.36271778e+07\n",
      "  -4.35335876e+06   1.50409539e+06  -2.30536671e+07   0.00000000e+00\n",
      "  -2.03979061e+07   3.06657343e+06  -3.62992362e+06   3.39714844e+07\n",
      "  -4.24780494e+06  -3.87430191e-07  -3.58507712e+06  -1.24709581e+07\n",
      "  -2.17700693e+05   3.57627869e-07   1.90309415e+07   9.69943849e+05\n",
      "   6.11467105e+06   5.24502271e+06   6.70876414e+06   4.04542588e+07\n",
      "  -2.63016400e+06   3.02141056e+06]\n",
      "Intercept: -61191254.2086\n"
     ]
    }
   ],
   "source": [
    "from sklearn.linear_model import LinearRegression\n",
    "model_linear=LinearRegression(normalize=True)\n",
    "model_linear.fit(XT_train, Y_train)\n",
    "print(\"Linear Model:\", model_linear)\n",
    "print(\"coeffecients:\", model_linear.coef_)\n",
    "print(\"Intercept:\", model_linear.intercept_)"
   ]
  },
  {
   "cell_type": "code",
   "execution_count": 76,
   "metadata": {},
   "outputs": [
    {
     "name": "stdout",
     "output_type": "stream",
     "text": [
      "R squared value: 0.904818315326\n"
     ]
    }
   ],
   "source": [
    "print('R squared value:', model_linear.score(XT_test, Y_test))"
   ]
  },
  {
   "cell_type": "code",
   "execution_count": 77,
   "metadata": {},
   "outputs": [
    {
     "name": "stdout",
     "output_type": "stream",
     "text": [
      "[1, 201, 401, 601, 801, 1001, 1201, 1401, 1601, 1801, 2001, 2201]\n",
      "<class 'list'>\n",
      "[1, 201, 401, 601, 801, 1001, 1201, 1401, 1601, 1801, 2001, 2201, 2530]\n"
     ]
    }
   ],
   "source": [
    "train_set=list(range(1,2400,200))\n",
    "print(train_set)\n",
    "print(type(train_set))\n",
    "train_set.append(2530)\n",
    "print(train_set)"
   ]
  },
  {
   "cell_type": "code",
   "execution_count": 78,
   "metadata": {},
   "outputs": [],
   "source": [
    "from sklearn.model_selection import learning_curve\n",
    "train_sizes, train_scores, validation_scores = learning_curve(\n",
    "                                                   estimator = LinearRegression(), X = XT,\n",
    "                                                   y = Y, train_sizes = train_set, cv = 5,\n",
    "                                                   scoring = 'neg_mean_squared_error')"
   ]
  },
  {
   "cell_type": "code",
   "execution_count": 79,
   "metadata": {},
   "outputs": [
    {
     "name": "stdout",
     "output_type": "stream",
     "text": [
      "Mean training scores\n",
      "\n",
      " 1      -0.000000e+00\n",
      "201     2.633518e+16\n",
      "401     3.795460e+16\n",
      "601     3.378996e+16\n",
      "801     3.455942e+16\n",
      "1001    3.582755e+16\n",
      "1201    3.880547e+16\n",
      "1401    3.737748e+16\n",
      "1601    3.674139e+16\n",
      "1801    3.602118e+16\n",
      "2001    3.537382e+16\n",
      "2201    3.391072e+16\n",
      "2530    3.210668e+16\n",
      "dtype: float64\n",
      "\n",
      " ----------------------------------------\n",
      "\n",
      "Mean validation scores\n",
      "\n",
      " 1       7.098710e+16\n",
      "201     3.657803e+16\n",
      "401     3.862308e+16\n",
      "601     3.626139e+16\n",
      "801     3.383075e+16\n",
      "1001    3.385290e+16\n",
      "1201    3.373221e+16\n",
      "1401    3.301351e+16\n",
      "1601    3.260011e+16\n",
      "1801    3.247574e+16\n",
      "2001    3.235167e+16\n",
      "2201    3.228187e+16\n",
      "2530    3.225157e+16\n",
      "dtype: float64\n"
     ]
    }
   ],
   "source": [
    "train_scores_mean = -train_scores.mean(axis = 1)\n",
    "validation_scores_mean = -validation_scores.mean(axis = 1)\n",
    "\n",
    "print('Mean training scores\\n\\n', pd.Series(train_scores_mean, index = train_sizes))\n",
    "print('\\n', '-' * 40) # separator\n",
    "print('\\nMean validation scores\\n\\n',pd.Series(validation_scores_mean, index = train_sizes))"
   ]
  },
  {
   "cell_type": "code",
   "execution_count": 80,
   "metadata": {},
   "outputs": [
    {
     "data": {
      "image/png": "[encoded data removed]",
      "text/plain": [
       "<Figure size 576x396 with 1 Axes>"
      ]
     },
     "metadata": {},
     "output_type": "display_data"
    }
   ],
   "source": [
    "import matplotlib.pyplot as plt\n",
    "%matplotlib inline\n",
    "\n",
    "plt.style.use('seaborn')\n",
    "\n",
    "plt.plot(train_set, train_scores_mean, label = 'Training error')\n",
    "plt.plot(train_set, validation_scores_mean, label = 'Validation error')\n",
    "\n",
    "plt.ylabel('MSE', fontsize = 14)\n",
    "plt.xlabel('Training set size', fontsize = 14)\n",
    "plt.title('Learning curves for a linear regression model', fontsize = 18, y = 1.03)\n",
    "plt.legend()\n",
    "#plt.ylim(0,40)\n",
    "plt.show()"
   ]
  },
  {
   "cell_type": "code",
   "execution_count": 81,
   "metadata": {},
   "outputs": [
    {
     "data": {
      "image/png": "[encoded data removed]",
      "text/plain": [
       "<Figure size 576x396 with 1 Axes>"
      ]
     },
     "metadata": {},
     "output_type": "display_data"
    }
   ],
   "source": [
    "plt.plot(train_sizes,-validation_scores)\n",
    "plt.ylabel('validation Scores')\n",
    "plt.xlabel('Train/Test Size')\n",
    "plt.title(\"Validation Scores Vs Test/Train Split Size\")\n",
    "plt.show()"
   ]
  },
  {
   "cell_type": "markdown",
   "metadata": {},
   "source": [
    "# Categorical to Discrete Data"
   ]
  },
  {
   "cell_type": "code",
   "execution_count": 82,
   "metadata": {},
   "outputs": [],
   "source": [
    "movies_new=movies.copy()"
   ]
  },
  {
   "cell_type": "code",
   "execution_count": 83,
   "metadata": {},
   "outputs": [],
   "source": [
    "def getvalues(a):\n",
    "    new_all=[]\n",
    "    all_genres=[]\n",
    "    unique_all=[]\n",
    "    for i in a:\n",
    "        new_all.append(str(i).split(','))\n",
    "    new_all=list(chain(*new_all))\n",
    "    for i in new_all:\n",
    "        all_genres.append(i.strip())\n",
    "    unique_all=set(all_genres)\n",
    "    d={}\n",
    "    for i in unique_all:\n",
    "        d[i]=[]\n",
    "        for j in a:\n",
    "            j=str(j).strip()\n",
    "            if i in j:\n",
    "                d[i].append(1)\n",
    "            else:\n",
    "                d[i].append(0)\n",
    "    return(d)"
   ]
  },
  {
   "cell_type": "code",
   "execution_count": 84,
   "metadata": {},
   "outputs": [
    {
     "name": "stdout",
     "output_type": "stream",
     "text": [
      "2749\n"
     ]
    }
   ],
   "source": [
    "country=getvalues(movies['Country'])\n",
    "print(sum(country['USA']))"
   ]
  },
  {
   "cell_type": "code",
   "execution_count": 85,
   "metadata": {},
   "outputs": [],
   "source": [
    "def addindataframe(d):\n",
    "    for keys in d.keys():\n",
    "    #for i in range(len(movies['Genre'])):\n",
    "        list_key=pd.Series(d[keys])\n",
    "        #movies[keys].loc[i]=d[keys][i]\n",
    "        movies_new[keys]=d[keys]    \n",
    "    #movies.insert(loc=0,column=keys,value=d[keys])"
   ]
  },
  {
   "cell_type": "code",
   "execution_count": 86,
   "metadata": {},
   "outputs": [],
   "source": [
    "addindataframe(getvalues(movies_new['Country']))"
   ]
  },
  {
   "cell_type": "code",
   "execution_count": 87,
   "metadata": {},
   "outputs": [],
   "source": [
    "addindataframe(getvalues(movies_new['Language']))"
   ]
  },
  {
   "cell_type": "code",
   "execution_count": 88,
   "metadata": {},
   "outputs": [],
   "source": [
    "addindataframe(getvalues(movies_new['Rated']))"
   ]
  },
  {
   "cell_type": "code",
   "execution_count": 89,
   "metadata": {},
   "outputs": [
    {
     "name": "stdout",
     "output_type": "stream",
     "text": [
      "    Unnamed: 0                  Title  Year  Rated    Released  Runtime  \\\n",
      "12          13      Alone in the Dark  2005      R  2005-01-28     96.0   \n",
      "20          21      Are We There Yet?  2005     PG  2005-01-21     95.0   \n",
      "26          27                Be Cool  2005  PG-13  2005-03-04    118.0   \n",
      "27          28            Beauty Shop  2005  PG-13  2005-03-30    105.0   \n",
      "28          29  Because of Winn-Dixie  2005     PG  2005-02-18    106.0   \n",
      "\n",
      "                        Genre        Director  \\\n",
      "12             Horror, Sci-Fi        Uwe Boll   \n",
      "20  Adventure, Comedy, Family    Brian Levant   \n",
      "26       Comedy, Crime, Music    F. Gary Gray   \n",
      "27                     Comedy  Bille Woodruff   \n",
      "28      Comedy, Drama, Family      Wayne Wang   \n",
      "\n",
      "                                               Writer  \\\n",
      "12        Elan Mastai, Michael Roesch, Peter Scheerer   \n",
      "20  Steven Gary Banks (story), Claudia Grazioso (s...   \n",
      "26  Elmore Leonard (novel), Peter Steinfeld (scree...   \n",
      "27  Elizabeth Hunter (story), Kate Lanier (screenp...   \n",
      "28  Kate DiCamillo (novel), Joan Singleton (screen...   \n",
      "\n",
      "                                               Actors   ...   History  \\\n",
      "12  Christian Slater, Tara Reid, Stephen Dorff, Fr...   ...         0   \n",
      "20   Ice Cube, Nia Long, Aleisha Allen, Philip Bolden   ...         0   \n",
      "26  John Travolta, Uma Thurman, Vince Vaughn, Cedr...   ...         0   \n",
      "27  Queen Latifah, Alicia Silverstone, Andie MacDo...   ...         0   \n",
      "28  AnnaSophia Robb, Jeff Daniels, Cicely Tyson, D...   ...         0   \n",
      "\n",
      "   Game-Show Fantasy Horror Sci-Fi  Romance  Documentary  Adult Mystery  \\\n",
      "12         0       0      1      1        0            0      0       0   \n",
      "20         0       0      0      0        0            0      0       0   \n",
      "26         0       0      0      0        0            0      0       0   \n",
      "27         0       0      0      0        0            0      0       0   \n",
      "28         0       0      0      0        0            0      0       0   \n",
      "\n",
      "   Musical  \n",
      "12       0  \n",
      "20       0  \n",
      "26       0  \n",
      "27       0  \n",
      "28       0  \n",
      "\n",
      "[5 rows x 70 columns]\n"
     ]
    },
    {
     "data": {
      "text/plain": [
       "2749"
      ]
     },
     "execution_count": 89,
     "metadata": {},
     "output_type": "execute_result"
    }
   ],
   "source": [
    "print(movies.head())\n",
    "sum(movies_new['USA'])"
   ]
  },
  {
   "cell_type": "markdown",
   "metadata": {},
   "source": [
    "# Getting only Numerical Data (2)"
   ]
  },
  {
   "cell_type": "code",
   "execution_count": 90,
   "metadata": {},
   "outputs": [
    {
     "name": "stdout",
     "output_type": "stream",
     "text": [
      "(3163, 285)\n",
      "(3163, 263)\n"
     ]
    },
    {
     "data": {
      "text/html": [
       "<div>\n",
       "<style scoped>\n",
       "    .dataframe tbody tr th:only-of-type {\n",
       "        vertical-align: middle;\n",
       "    }\n",
       "\n",
       "    .dataframe tbody tr th {\n",
       "        vertical-align: top;\n",
       "    }\n",
       "\n",
       "    .dataframe thead th {\n",
       "        text-align: right;\n",
       "    }\n",
       "</style>\n",
       "<table border=\"1\" class=\"dataframe\">\n",
       "  <thead>\n",
       "    <tr style=\"text-align: right;\">\n",
       "      <th></th>\n",
       "      <th>Unnamed: 0</th>\n",
       "      <th>Year</th>\n",
       "      <th>Runtime</th>\n",
       "      <th>Metascore</th>\n",
       "      <th>imdbRating</th>\n",
       "      <th>imdbVotes</th>\n",
       "      <th>tomatoMeter</th>\n",
       "      <th>tomatoRating</th>\n",
       "      <th>tomatoReviews</th>\n",
       "      <th>tomatoFresh</th>\n",
       "      <th>...</th>\n",
       "      <th>TV-PG</th>\n",
       "      <th>TV-G</th>\n",
       "      <th>PG</th>\n",
       "      <th>PG-13</th>\n",
       "      <th>UNRATED</th>\n",
       "      <th>G</th>\n",
       "      <th>NC-17</th>\n",
       "      <th>R</th>\n",
       "      <th>TV-14</th>\n",
       "      <th>NOT RATED</th>\n",
       "    </tr>\n",
       "  </thead>\n",
       "  <tbody>\n",
       "    <tr>\n",
       "      <th>count</th>\n",
       "      <td>3163.000000</td>\n",
       "      <td>3163.000000</td>\n",
       "      <td>3163.000000</td>\n",
       "      <td>2746.000000</td>\n",
       "      <td>3120.000000</td>\n",
       "      <td>3.120000e+03</td>\n",
       "      <td>2775.000000</td>\n",
       "      <td>2775.000000</td>\n",
       "      <td>2776.000000</td>\n",
       "      <td>2776.000000</td>\n",
       "      <td>...</td>\n",
       "      <td>3163.000000</td>\n",
       "      <td>3163.000000</td>\n",
       "      <td>3163.000000</td>\n",
       "      <td>3163.000000</td>\n",
       "      <td>3163.000000</td>\n",
       "      <td>3163.000000</td>\n",
       "      <td>3163.000000</td>\n",
       "      <td>3163.000000</td>\n",
       "      <td>3163.000000</td>\n",
       "      <td>3163.000000</td>\n",
       "    </tr>\n",
       "    <tr>\n",
       "      <th>mean</th>\n",
       "      <td>70401.246601</td>\n",
       "      <td>2008.402466</td>\n",
       "      <td>104.336927</td>\n",
       "      <td>52.924982</td>\n",
       "      <td>6.294904</td>\n",
       "      <td>8.530600e+04</td>\n",
       "      <td>51.945225</td>\n",
       "      <td>5.607387</td>\n",
       "      <td>127.347983</td>\n",
       "      <td>73.070245</td>\n",
       "      <td>...</td>\n",
       "      <td>0.000948</td>\n",
       "      <td>0.000948</td>\n",
       "      <td>0.464749</td>\n",
       "      <td>0.338286</td>\n",
       "      <td>0.008220</td>\n",
       "      <td>0.481821</td>\n",
       "      <td>0.000948</td>\n",
       "      <td>0.440405</td>\n",
       "      <td>0.000316</td>\n",
       "      <td>0.023396</td>\n",
       "    </tr>\n",
       "    <tr>\n",
       "      <th>std</th>\n",
       "      <td>49777.371473</td>\n",
       "      <td>4.370154</td>\n",
       "      <td>19.230381</td>\n",
       "      <td>17.651252</td>\n",
       "      <td>1.102757</td>\n",
       "      <td>1.328866e+05</td>\n",
       "      <td>27.468142</td>\n",
       "      <td>1.447502</td>\n",
       "      <td>67.324916</td>\n",
       "      <td>63.502042</td>\n",
       "      <td>...</td>\n",
       "      <td>0.030787</td>\n",
       "      <td>0.030787</td>\n",
       "      <td>0.498835</td>\n",
       "      <td>0.473201</td>\n",
       "      <td>0.090305</td>\n",
       "      <td>0.499748</td>\n",
       "      <td>0.030787</td>\n",
       "      <td>0.496514</td>\n",
       "      <td>0.017781</td>\n",
       "      <td>0.151180</td>\n",
       "    </tr>\n",
       "    <tr>\n",
       "      <th>min</th>\n",
       "      <td>13.000000</td>\n",
       "      <td>2001.000000</td>\n",
       "      <td>1.000000</td>\n",
       "      <td>1.000000</td>\n",
       "      <td>1.600000</td>\n",
       "      <td>5.000000e+00</td>\n",
       "      <td>0.000000</td>\n",
       "      <td>1.000000</td>\n",
       "      <td>3.000000</td>\n",
       "      <td>0.000000</td>\n",
       "      <td>...</td>\n",
       "      <td>0.000000</td>\n",
       "      <td>0.000000</td>\n",
       "      <td>0.000000</td>\n",
       "      <td>0.000000</td>\n",
       "      <td>0.000000</td>\n",
       "      <td>0.000000</td>\n",
       "      <td>0.000000</td>\n",
       "      <td>0.000000</td>\n",
       "      <td>0.000000</td>\n",
       "      <td>0.000000</td>\n",
       "    </tr>\n",
       "    <tr>\n",
       "      <th>25%</th>\n",
       "      <td>13076.500000</td>\n",
       "      <td>2005.000000</td>\n",
       "      <td>92.000000</td>\n",
       "      <td>40.000000</td>\n",
       "      <td>5.700000</td>\n",
       "      <td>8.949500e+03</td>\n",
       "      <td>29.000000</td>\n",
       "      <td>4.500000</td>\n",
       "      <td>81.000000</td>\n",
       "      <td>20.000000</td>\n",
       "      <td>...</td>\n",
       "      <td>0.000000</td>\n",
       "      <td>0.000000</td>\n",
       "      <td>0.000000</td>\n",
       "      <td>0.000000</td>\n",
       "      <td>0.000000</td>\n",
       "      <td>0.000000</td>\n",
       "      <td>0.000000</td>\n",
       "      <td>0.000000</td>\n",
       "      <td>0.000000</td>\n",
       "      <td>0.000000</td>\n",
       "    </tr>\n",
       "    <tr>\n",
       "      <th>50%</th>\n",
       "      <td>110317.000000</td>\n",
       "      <td>2008.000000</td>\n",
       "      <td>101.000000</td>\n",
       "      <td>53.000000</td>\n",
       "      <td>6.400000</td>\n",
       "      <td>3.682600e+04</td>\n",
       "      <td>52.000000</td>\n",
       "      <td>5.600000</td>\n",
       "      <td>128.500000</td>\n",
       "      <td>57.000000</td>\n",
       "      <td>...</td>\n",
       "      <td>0.000000</td>\n",
       "      <td>0.000000</td>\n",
       "      <td>0.000000</td>\n",
       "      <td>0.000000</td>\n",
       "      <td>0.000000</td>\n",
       "      <td>0.000000</td>\n",
       "      <td>0.000000</td>\n",
       "      <td>0.000000</td>\n",
       "      <td>0.000000</td>\n",
       "      <td>0.000000</td>\n",
       "    </tr>\n",
       "    <tr>\n",
       "      <th>75%</th>\n",
       "      <td>111134.500000</td>\n",
       "      <td>2012.000000</td>\n",
       "      <td>114.000000</td>\n",
       "      <td>66.000000</td>\n",
       "      <td>7.100000</td>\n",
       "      <td>1.021338e+05</td>\n",
       "      <td>76.000000</td>\n",
       "      <td>6.700000</td>\n",
       "      <td>171.000000</td>\n",
       "      <td>111.000000</td>\n",
       "      <td>...</td>\n",
       "      <td>0.000000</td>\n",
       "      <td>0.000000</td>\n",
       "      <td>1.000000</td>\n",
       "      <td>1.000000</td>\n",
       "      <td>0.000000</td>\n",
       "      <td>1.000000</td>\n",
       "      <td>0.000000</td>\n",
       "      <td>1.000000</td>\n",
       "      <td>0.000000</td>\n",
       "      <td>0.000000</td>\n",
       "    </tr>\n",
       "    <tr>\n",
       "      <th>max</th>\n",
       "      <td>111998.000000</td>\n",
       "      <td>2017.000000</td>\n",
       "      <td>219.000000</td>\n",
       "      <td>100.000000</td>\n",
       "      <td>9.000000</td>\n",
       "      <td>1.670736e+06</td>\n",
       "      <td>100.000000</td>\n",
       "      <td>9.200000</td>\n",
       "      <td>355.000000</td>\n",
       "      <td>343.000000</td>\n",
       "      <td>...</td>\n",
       "      <td>1.000000</td>\n",
       "      <td>1.000000</td>\n",
       "      <td>1.000000</td>\n",
       "      <td>1.000000</td>\n",
       "      <td>1.000000</td>\n",
       "      <td>1.000000</td>\n",
       "      <td>1.000000</td>\n",
       "      <td>1.000000</td>\n",
       "      <td>1.000000</td>\n",
       "      <td>1.000000</td>\n",
       "    </tr>\n",
       "  </tbody>\n",
       "</table>\n",
       "<p>8 rows × 263 columns</p>\n",
       "</div>"
      ],
      "text/plain": [
       "          Unnamed: 0         Year      Runtime    Metascore   imdbRating  \\\n",
       "count    3163.000000  3163.000000  3163.000000  2746.000000  3120.000000   \n",
       "mean    70401.246601  2008.402466   104.336927    52.924982     6.294904   \n",
       "std     49777.371473     4.370154    19.230381    17.651252     1.102757   \n",
       "min        13.000000  2001.000000     1.000000     1.000000     1.600000   \n",
       "25%     13076.500000  2005.000000    92.000000    40.000000     5.700000   \n",
       "50%    110317.000000  2008.000000   101.000000    53.000000     6.400000   \n",
       "75%    111134.500000  2012.000000   114.000000    66.000000     7.100000   \n",
       "max    111998.000000  2017.000000   219.000000   100.000000     9.000000   \n",
       "\n",
       "          imdbVotes  tomatoMeter  tomatoRating  tomatoReviews  tomatoFresh  \\\n",
       "count  3.120000e+03  2775.000000   2775.000000    2776.000000  2776.000000   \n",
       "mean   8.530600e+04    51.945225      5.607387     127.347983    73.070245   \n",
       "std    1.328866e+05    27.468142      1.447502      67.324916    63.502042   \n",
       "min    5.000000e+00     0.000000      1.000000       3.000000     0.000000   \n",
       "25%    8.949500e+03    29.000000      4.500000      81.000000    20.000000   \n",
       "50%    3.682600e+04    52.000000      5.600000     128.500000    57.000000   \n",
       "75%    1.021338e+05    76.000000      6.700000     171.000000   111.000000   \n",
       "max    1.670736e+06   100.000000      9.200000     355.000000   343.000000   \n",
       "\n",
       "          ...             TV-PG         TV-G           PG        PG-13  \\\n",
       "count     ...       3163.000000  3163.000000  3163.000000  3163.000000   \n",
       "mean      ...          0.000948     0.000948     0.464749     0.338286   \n",
       "std       ...          0.030787     0.030787     0.498835     0.473201   \n",
       "min       ...          0.000000     0.000000     0.000000     0.000000   \n",
       "25%       ...          0.000000     0.000000     0.000000     0.000000   \n",
       "50%       ...          0.000000     0.000000     0.000000     0.000000   \n",
       "75%       ...          0.000000     0.000000     1.000000     1.000000   \n",
       "max       ...          1.000000     1.000000     1.000000     1.000000   \n",
       "\n",
       "           UNRATED            G        NC-17            R        TV-14  \\\n",
       "count  3163.000000  3163.000000  3163.000000  3163.000000  3163.000000   \n",
       "mean      0.008220     0.481821     0.000948     0.440405     0.000316   \n",
       "std       0.090305     0.499748     0.030787     0.496514     0.017781   \n",
       "min       0.000000     0.000000     0.000000     0.000000     0.000000   \n",
       "25%       0.000000     0.000000     0.000000     0.000000     0.000000   \n",
       "50%       0.000000     0.000000     0.000000     0.000000     0.000000   \n",
       "75%       0.000000     1.000000     0.000000     1.000000     0.000000   \n",
       "max       1.000000     1.000000     1.000000     1.000000     1.000000   \n",
       "\n",
       "         NOT RATED  \n",
       "count  3163.000000  \n",
       "mean      0.023396  \n",
       "std       0.151180  \n",
       "min       0.000000  \n",
       "25%       0.000000  \n",
       "50%       0.000000  \n",
       "75%       0.000000  \n",
       "max       1.000000  \n",
       "\n",
       "[8 rows x 263 columns]"
      ]
     },
     "execution_count": 90,
     "metadata": {},
     "output_type": "execute_result"
    }
   ],
   "source": [
    "print(movies_new.shape)\n",
    "movies_new=movies_new.select_dtypes(include='number')\n",
    "print(movies_new.shape)\n",
    "movies_new.describe()"
   ]
  },
  {
   "cell_type": "code",
   "execution_count": 91,
   "metadata": {},
   "outputs": [],
   "source": [
    "movies_new['Metascore'].fillna(np.mean(movies_new['Metascore']),inplace=True)\n",
    "movies_new['imdbRating'].fillna(np.mean(movies_new['imdbRating']),inplace=True)\n",
    "movies_new['imdbVotes'].fillna(np.mean(movies_new['imdbVotes']),inplace=True)\n",
    "movies_new['tomatoMeter'].fillna(np.mean(movies_new['tomatoMeter']),inplace=True)\n",
    "movies_new['tomatoFresh'].fillna(np.mean(movies_new['tomatoFresh']),inplace=True)\n",
    "movies_new['tomatoRating'].fillna(np.mean(movies_new['tomatoRating']),inplace=True)\n",
    "movies_new['tomatoRotten'].fillna(np.mean(movies_new['tomatoRotten']),inplace=True)\n",
    "movies_new['tomatoUserMeter'].fillna(np.mean(movies_new['tomatoUserMeter']),inplace=True)\n",
    "movies_new['tomatoUserRating'].fillna(np.mean(movies_new['tomatoUserRating']),inplace=True)\n",
    "movies_new['tomatoUserReviews'].fillna(np.mean(movies_new['tomatoUserReviews']),inplace=True)\n",
    "movies_new['tomatoReviews'].fillna(np.mean(movies_new['tomatoReviews']),inplace=True)"
   ]
  },
  {
   "cell_type": "code",
   "execution_count": 92,
   "metadata": {},
   "outputs": [
    {
     "name": "stdout",
     "output_type": "stream",
     "text": [
      "Unnamed: 0 0\n",
      "Year 0\n",
      "Runtime 0\n",
      "Metascore 0\n",
      "imdbRating 0\n",
      "imdbVotes 0\n",
      "tomatoMeter 0\n",
      "tomatoRating 0\n",
      "tomatoReviews 0\n",
      "tomatoFresh 0\n",
      "tomatoRotten 0\n",
      "tomatoUserMeter 0\n",
      "tomatoUserRating 0\n",
      "tomatoUserReviews 0\n",
      "Budget 0\n",
      "Domestic_Gross 0\n",
      "Gross 0\n",
      "Date 0\n",
      "Nominations 0\n",
      "Wins 0\n",
      "Talk-Show 0\n",
      "Animation 0\n",
      "Action 0\n",
      "Comedy 0\n",
      "Adventure 0\n",
      "Western 0\n",
      "Drama 0\n",
      "Music 0\n",
      "Sport 0\n",
      "Film-Noir 0\n",
      "News 0\n",
      "Thriller 0\n",
      "Family 0\n",
      "Short 0\n",
      "War 0\n",
      "Reality-TV 0\n",
      "Crime 0\n",
      "Biography 0\n",
      "History 0\n",
      "Game-Show 0\n",
      "Fantasy 0\n",
      "Horror 0\n",
      "Sci-Fi 0\n",
      "Romance 0\n",
      "Documentary 0\n",
      "Adult 0\n",
      "Mystery 0\n",
      "Musical 0\n",
      "Colombia 0\n",
      "United Arab Emirates 0\n",
      "Slovenia 0\n",
      "Bulgaria 0\n",
      "Iceland 0\n",
      "Serbia 0\n",
      "Thailand 0\n",
      "Poland 0\n",
      "Italy 0\n",
      "Luxembourg 0\n",
      "France 0\n",
      "Jordan 0\n",
      "Bahamas 0\n",
      "New Zealand 0\n",
      "Slovakia 0\n",
      "Ecuador 0\n",
      "Belgium 0\n",
      "UK 0\n",
      "Singapore 0\n",
      "Bolivia 0\n",
      "Czech Republic 0\n",
      "Argentina 0\n",
      "Australia 0\n",
      "Morocco 0\n",
      "Israel 0\n",
      "Switzerland 0\n",
      "Austria 0\n",
      "Uruguay 0\n",
      "Denmark 0\n",
      "Taiwan 0\n",
      "Ghana 0\n",
      "Peru 0\n",
      "India 0\n",
      "Liechtenstein 0\n",
      "Malta 0\n",
      "Algeria 0\n",
      "Nigeria 0\n",
      "Panama 0\n",
      "Spain 0\n",
      "Cambodia 0\n",
      "Guyana 0\n",
      "Cyprus 0\n",
      "Hungary 0\n",
      "Angola 0\n",
      "Philippines 0\n",
      "Kenya 0\n",
      "Portugal 0\n",
      "South Korea 0\n",
      "Afghanistan 0\n",
      "South Africa 0\n",
      "Isle Of Man 0\n",
      "Brazil 0\n",
      "Puerto Rico 0\n",
      "Cameroon 0\n",
      "Croatia 0\n",
      "Saudi Arabia 0\n",
      "Lithuania 0\n",
      "China 0\n",
      "Chile 0\n",
      "Canada 0\n",
      "Germany 0\n",
      "Indonesia 0\n",
      "Tunisia 0\n",
      "Netherlands 0\n",
      "Turkey 0\n",
      "Paraguay 0\n",
      "Romania 0\n",
      "Russia 0\n",
      "Ireland 0\n",
      "Georgia 0\n",
      "nan 0\n",
      "Mexico 0\n",
      "Hong Kong 0\n",
      "Norway 0\n",
      "Greece 0\n",
      "Finland 0\n",
      "Pakistan 0\n",
      "Egypt 0\n",
      "Antarctica 0\n",
      "Iran 0\n",
      "Sweden 0\n",
      "Japan 0\n",
      "Bosnia and Herzegovina 0\n",
      "Kazakhstan 0\n",
      "USA 0\n",
      "Mongolian 0\n",
      "Esperanto 0\n",
      "Wolof 0\n",
      "Indonesian 0\n",
      "Berber languages 0\n",
      "Songhay 0\n",
      "Lao 0\n",
      "French 0\n",
      "Hebrew 0\n",
      "Lithuanian 0\n",
      "Georgian 0\n",
      "Hindi 0\n",
      "Gujarati 0\n",
      "Khmer 0\n",
      "Min Nan 0\n",
      "Serbian 0\n",
      "Hungarian 0\n",
      "Telugu 0\n",
      "Arabic 0\n",
      "Armenian 0\n",
      "Scottish Gaelic 0\n",
      "Hawaiian 0\n",
      "Hmong 0\n",
      "Ancient (to 1453) 0\n",
      "Acholi 0\n",
      "Somali 0\n",
      "Tibetan 0\n",
      "Chinese 0\n",
      "Maya 0\n",
      "Tonga 0\n",
      "Yiddish 0\n",
      "Croatian 0\n",
      "Welsh 0\n",
      "Panjabi 0\n",
      "Burmese 0\n",
      "Italian 0\n",
      "Tamashek 0\n",
      "Romanian 0\n",
      "Vietnamese 0\n",
      "Sign Languages 0\n",
      "Japanese Sign Language 0\n",
      "Norwegian 0\n",
      "Afrikaans 0\n",
      "Catalan 0\n",
      "Ukrainian 0\n",
      "Pushto 0\n",
      "Tagalog 0\n",
      "Swedish 0\n",
      "Nyanja 0\n",
      "Bulgarian 0\n",
      "Bosnian 0\n",
      "Danish 0\n",
      "Creoles and pidgins 0\n",
      "Kannada 0\n",
      "Klingon 0\n",
      "Zulu 0\n",
      "Algonquin 0\n",
      "Swiss German 0\n",
      "Aboriginal 0\n",
      "Latin 0\n",
      "Tamil 0\n",
      "Eastern Frisian 0\n",
      "Swahili 0\n",
      "Slovenian 0\n",
      "Bambara 0\n",
      "Pawnee 0\n",
      "Persian 0\n",
      "British Sign Language 0\n",
      "Sioux 0\n",
      "American Sign Language 0\n",
      "None 0\n",
      "Old English 0\n",
      "Dutch 0\n",
      "Shanghainese 0\n",
      "Japanese 0\n",
      "Sindarin 0\n",
      "Slovak 0\n",
      "Amharic 0\n",
      "Serbo-Croatian 0\n",
      "German 0\n",
      "Quenya 0\n",
      "Mende 0\n",
      "Chechen 0\n",
      "Bengali 0\n",
      "Greek 0\n",
      "Aramaic 0\n",
      "Thai 0\n",
      "Urdu 0\n",
      "Irish 0\n",
      "Maori 0\n",
      "Navajo 0\n",
      "Korean 0\n",
      "Norse 0\n",
      "Russian 0\n",
      "Dari 0\n",
      "Turkish 0\n",
      "Greenlandic 0\n",
      "Albanian 0\n",
      "Mandarin 0\n",
      "Corsican 0\n",
      "Romany 0\n",
      "Polish 0\n",
      "Syriac 0\n",
      "Icelandic 0\n",
      "Sanskrit 0\n",
      "Flemish 0\n",
      "Czech 0\n",
      "Spanish 0\n",
      "Egyptian (Ancient) 0\n",
      "Apache languages 0\n",
      "Filipino 0\n",
      "Estonian 0\n",
      "Southern Sotho 0\n",
      "Xhosa 0\n",
      "English 0\n",
      "Portuguese 0\n",
      "Hokkien 0\n",
      "Cantonese 0\n",
      "North American Indian 0\n",
      "Old 0\n",
      "TV-PG 0\n",
      "TV-G 0\n",
      "PG 0\n",
      "PG-13 0\n",
      "UNRATED 0\n",
      "G 0\n",
      "NC-17 0\n",
      "R 0\n",
      "TV-14 0\n",
      "NOT RATED 0\n"
     ]
    }
   ],
   "source": [
    "for i in list(movies_new.columns):\n",
    "    print(i,sum(movies_new[i].isnull()))"
   ]
  },
  {
   "cell_type": "code",
   "execution_count": 93,
   "metadata": {},
   "outputs": [
    {
     "data": {
      "text/plain": [
       "Index(['Unnamed: 0', 'Year', 'Runtime', 'Metascore', 'imdbRating', 'imdbVotes',\n",
       "       'tomatoMeter', 'tomatoRating', 'tomatoReviews', 'tomatoFresh',\n",
       "       ...\n",
       "       'TV-PG', 'TV-G', 'PG', 'PG-13', 'UNRATED', 'G', 'NC-17', 'R', 'TV-14',\n",
       "       'NOT RATED'],\n",
       "      dtype='object', length=263)"
      ]
     },
     "execution_count": 93,
     "metadata": {},
     "output_type": "execute_result"
    }
   ],
   "source": [
    "movies_new.columns"
   ]
  },
  {
   "cell_type": "code",
   "execution_count": 94,
   "metadata": {},
   "outputs": [
    {
     "data": {
      "text/html": [
       "<div>\n",
       "<style scoped>\n",
       "    .dataframe tbody tr th:only-of-type {\n",
       "        vertical-align: middle;\n",
       "    }\n",
       "\n",
       "    .dataframe tbody tr th {\n",
       "        vertical-align: top;\n",
       "    }\n",
       "\n",
       "    .dataframe thead th {\n",
       "        text-align: right;\n",
       "    }\n",
       "</style>\n",
       "<table border=\"1\" class=\"dataframe\">\n",
       "  <thead>\n",
       "    <tr style=\"text-align: right;\">\n",
       "      <th></th>\n",
       "      <th>Unnamed: 0</th>\n",
       "      <th>Year</th>\n",
       "      <th>Runtime</th>\n",
       "      <th>Metascore</th>\n",
       "      <th>imdbRating</th>\n",
       "      <th>imdbVotes</th>\n",
       "      <th>tomatoMeter</th>\n",
       "      <th>tomatoRating</th>\n",
       "      <th>tomatoReviews</th>\n",
       "      <th>tomatoFresh</th>\n",
       "      <th>...</th>\n",
       "      <th>TV-PG</th>\n",
       "      <th>TV-G</th>\n",
       "      <th>PG</th>\n",
       "      <th>PG-13</th>\n",
       "      <th>UNRATED</th>\n",
       "      <th>G</th>\n",
       "      <th>NC-17</th>\n",
       "      <th>R</th>\n",
       "      <th>TV-14</th>\n",
       "      <th>NOT RATED</th>\n",
       "    </tr>\n",
       "  </thead>\n",
       "  <tbody>\n",
       "    <tr>\n",
       "      <th>12</th>\n",
       "      <td>13</td>\n",
       "      <td>2005</td>\n",
       "      <td>96.0</td>\n",
       "      <td>9.0</td>\n",
       "      <td>2.3</td>\n",
       "      <td>37613.0</td>\n",
       "      <td>1.0</td>\n",
       "      <td>1.7</td>\n",
       "      <td>117.0</td>\n",
       "      <td>1.0</td>\n",
       "      <td>...</td>\n",
       "      <td>0</td>\n",
       "      <td>0</td>\n",
       "      <td>0</td>\n",
       "      <td>0</td>\n",
       "      <td>0</td>\n",
       "      <td>0</td>\n",
       "      <td>0</td>\n",
       "      <td>1</td>\n",
       "      <td>0</td>\n",
       "      <td>0</td>\n",
       "    </tr>\n",
       "    <tr>\n",
       "      <th>20</th>\n",
       "      <td>21</td>\n",
       "      <td>2005</td>\n",
       "      <td>95.0</td>\n",
       "      <td>27.0</td>\n",
       "      <td>4.6</td>\n",
       "      <td>22611.0</td>\n",
       "      <td>11.0</td>\n",
       "      <td>3.3</td>\n",
       "      <td>116.0</td>\n",
       "      <td>13.0</td>\n",
       "      <td>...</td>\n",
       "      <td>0</td>\n",
       "      <td>0</td>\n",
       "      <td>1</td>\n",
       "      <td>0</td>\n",
       "      <td>0</td>\n",
       "      <td>1</td>\n",
       "      <td>0</td>\n",
       "      <td>0</td>\n",
       "      <td>0</td>\n",
       "      <td>0</td>\n",
       "    </tr>\n",
       "    <tr>\n",
       "      <th>26</th>\n",
       "      <td>27</td>\n",
       "      <td>2005</td>\n",
       "      <td>118.0</td>\n",
       "      <td>37.0</td>\n",
       "      <td>5.7</td>\n",
       "      <td>59443.0</td>\n",
       "      <td>30.0</td>\n",
       "      <td>4.6</td>\n",
       "      <td>169.0</td>\n",
       "      <td>50.0</td>\n",
       "      <td>...</td>\n",
       "      <td>0</td>\n",
       "      <td>0</td>\n",
       "      <td>1</td>\n",
       "      <td>1</td>\n",
       "      <td>0</td>\n",
       "      <td>1</td>\n",
       "      <td>0</td>\n",
       "      <td>0</td>\n",
       "      <td>0</td>\n",
       "      <td>0</td>\n",
       "    </tr>\n",
       "    <tr>\n",
       "      <th>27</th>\n",
       "      <td>28</td>\n",
       "      <td>2005</td>\n",
       "      <td>105.0</td>\n",
       "      <td>53.0</td>\n",
       "      <td>5.5</td>\n",
       "      <td>13197.0</td>\n",
       "      <td>37.0</td>\n",
       "      <td>5.3</td>\n",
       "      <td>115.0</td>\n",
       "      <td>43.0</td>\n",
       "      <td>...</td>\n",
       "      <td>0</td>\n",
       "      <td>0</td>\n",
       "      <td>1</td>\n",
       "      <td>1</td>\n",
       "      <td>0</td>\n",
       "      <td>1</td>\n",
       "      <td>0</td>\n",
       "      <td>0</td>\n",
       "      <td>0</td>\n",
       "      <td>0</td>\n",
       "    </tr>\n",
       "    <tr>\n",
       "      <th>28</th>\n",
       "      <td>29</td>\n",
       "      <td>2005</td>\n",
       "      <td>106.0</td>\n",
       "      <td>54.0</td>\n",
       "      <td>6.4</td>\n",
       "      <td>8427.0</td>\n",
       "      <td>54.0</td>\n",
       "      <td>5.8</td>\n",
       "      <td>119.0</td>\n",
       "      <td>64.0</td>\n",
       "      <td>...</td>\n",
       "      <td>0</td>\n",
       "      <td>0</td>\n",
       "      <td>1</td>\n",
       "      <td>0</td>\n",
       "      <td>0</td>\n",
       "      <td>1</td>\n",
       "      <td>0</td>\n",
       "      <td>0</td>\n",
       "      <td>0</td>\n",
       "      <td>0</td>\n",
       "    </tr>\n",
       "  </tbody>\n",
       "</table>\n",
       "<p>5 rows × 262 columns</p>\n",
       "</div>"
      ],
      "text/plain": [
       "    Unnamed: 0  Year  Runtime  Metascore  imdbRating  imdbVotes  tomatoMeter  \\\n",
       "12          13  2005     96.0        9.0         2.3    37613.0          1.0   \n",
       "20          21  2005     95.0       27.0         4.6    22611.0         11.0   \n",
       "26          27  2005    118.0       37.0         5.7    59443.0         30.0   \n",
       "27          28  2005    105.0       53.0         5.5    13197.0         37.0   \n",
       "28          29  2005    106.0       54.0         6.4     8427.0         54.0   \n",
       "\n",
       "    tomatoRating  tomatoReviews  tomatoFresh    ...      TV-PG  TV-G  PG  \\\n",
       "12           1.7          117.0          1.0    ...          0     0   0   \n",
       "20           3.3          116.0         13.0    ...          0     0   1   \n",
       "26           4.6          169.0         50.0    ...          0     0   1   \n",
       "27           5.3          115.0         43.0    ...          0     0   1   \n",
       "28           5.8          119.0         64.0    ...          0     0   1   \n",
       "\n",
       "    PG-13  UNRATED  G  NC-17  R  TV-14  NOT RATED  \n",
       "12      0        0  0      0  1      0          0  \n",
       "20      0        0  1      0  0      0          0  \n",
       "26      1        0  1      0  0      0          0  \n",
       "27      1        0  1      0  0      0          0  \n",
       "28      0        0  1      0  0      0          0  \n",
       "\n",
       "[5 rows x 262 columns]"
      ]
     },
     "execution_count": 94,
     "metadata": {},
     "output_type": "execute_result"
    }
   ],
   "source": [
    "X_new=movies_new.loc[:,movies_new.columns !='Gross']\n",
    "X_new.head()"
   ]
  },
  {
   "cell_type": "code",
   "execution_count": 95,
   "metadata": {},
   "outputs": [
    {
     "data": {
      "text/html": [
       "<div>\n",
       "<style scoped>\n",
       "    .dataframe tbody tr th:only-of-type {\n",
       "        vertical-align: middle;\n",
       "    }\n",
       "\n",
       "    .dataframe tbody tr th {\n",
       "        vertical-align: top;\n",
       "    }\n",
       "\n",
       "    .dataframe thead th {\n",
       "        text-align: right;\n",
       "    }\n",
       "</style>\n",
       "<table border=\"1\" class=\"dataframe\">\n",
       "  <thead>\n",
       "    <tr style=\"text-align: right;\">\n",
       "      <th></th>\n",
       "      <th>Year</th>\n",
       "      <th>Runtime</th>\n",
       "      <th>Metascore</th>\n",
       "      <th>imdbRating</th>\n",
       "      <th>imdbVotes</th>\n",
       "      <th>tomatoMeter</th>\n",
       "      <th>tomatoRating</th>\n",
       "      <th>tomatoReviews</th>\n",
       "      <th>tomatoFresh</th>\n",
       "      <th>tomatoRotten</th>\n",
       "      <th>...</th>\n",
       "      <th>TV-PG</th>\n",
       "      <th>TV-G</th>\n",
       "      <th>PG</th>\n",
       "      <th>PG-13</th>\n",
       "      <th>UNRATED</th>\n",
       "      <th>G</th>\n",
       "      <th>NC-17</th>\n",
       "      <th>R</th>\n",
       "      <th>TV-14</th>\n",
       "      <th>NOT RATED</th>\n",
       "    </tr>\n",
       "  </thead>\n",
       "  <tbody>\n",
       "    <tr>\n",
       "      <th>12</th>\n",
       "      <td>2005</td>\n",
       "      <td>96.0</td>\n",
       "      <td>9.0</td>\n",
       "      <td>2.3</td>\n",
       "      <td>37613.0</td>\n",
       "      <td>1.0</td>\n",
       "      <td>1.7</td>\n",
       "      <td>117.0</td>\n",
       "      <td>1.0</td>\n",
       "      <td>116.0</td>\n",
       "      <td>...</td>\n",
       "      <td>0</td>\n",
       "      <td>0</td>\n",
       "      <td>0</td>\n",
       "      <td>0</td>\n",
       "      <td>0</td>\n",
       "      <td>0</td>\n",
       "      <td>0</td>\n",
       "      <td>1</td>\n",
       "      <td>0</td>\n",
       "      <td>0</td>\n",
       "    </tr>\n",
       "    <tr>\n",
       "      <th>20</th>\n",
       "      <td>2005</td>\n",
       "      <td>95.0</td>\n",
       "      <td>27.0</td>\n",
       "      <td>4.6</td>\n",
       "      <td>22611.0</td>\n",
       "      <td>11.0</td>\n",
       "      <td>3.3</td>\n",
       "      <td>116.0</td>\n",
       "      <td>13.0</td>\n",
       "      <td>103.0</td>\n",
       "      <td>...</td>\n",
       "      <td>0</td>\n",
       "      <td>0</td>\n",
       "      <td>1</td>\n",
       "      <td>0</td>\n",
       "      <td>0</td>\n",
       "      <td>1</td>\n",
       "      <td>0</td>\n",
       "      <td>0</td>\n",
       "      <td>0</td>\n",
       "      <td>0</td>\n",
       "    </tr>\n",
       "    <tr>\n",
       "      <th>26</th>\n",
       "      <td>2005</td>\n",
       "      <td>118.0</td>\n",
       "      <td>37.0</td>\n",
       "      <td>5.7</td>\n",
       "      <td>59443.0</td>\n",
       "      <td>30.0</td>\n",
       "      <td>4.6</td>\n",
       "      <td>169.0</td>\n",
       "      <td>50.0</td>\n",
       "      <td>119.0</td>\n",
       "      <td>...</td>\n",
       "      <td>0</td>\n",
       "      <td>0</td>\n",
       "      <td>1</td>\n",
       "      <td>1</td>\n",
       "      <td>0</td>\n",
       "      <td>1</td>\n",
       "      <td>0</td>\n",
       "      <td>0</td>\n",
       "      <td>0</td>\n",
       "      <td>0</td>\n",
       "    </tr>\n",
       "    <tr>\n",
       "      <th>27</th>\n",
       "      <td>2005</td>\n",
       "      <td>105.0</td>\n",
       "      <td>53.0</td>\n",
       "      <td>5.5</td>\n",
       "      <td>13197.0</td>\n",
       "      <td>37.0</td>\n",
       "      <td>5.3</td>\n",
       "      <td>115.0</td>\n",
       "      <td>43.0</td>\n",
       "      <td>72.0</td>\n",
       "      <td>...</td>\n",
       "      <td>0</td>\n",
       "      <td>0</td>\n",
       "      <td>1</td>\n",
       "      <td>1</td>\n",
       "      <td>0</td>\n",
       "      <td>1</td>\n",
       "      <td>0</td>\n",
       "      <td>0</td>\n",
       "      <td>0</td>\n",
       "      <td>0</td>\n",
       "    </tr>\n",
       "    <tr>\n",
       "      <th>28</th>\n",
       "      <td>2005</td>\n",
       "      <td>106.0</td>\n",
       "      <td>54.0</td>\n",
       "      <td>6.4</td>\n",
       "      <td>8427.0</td>\n",
       "      <td>54.0</td>\n",
       "      <td>5.8</td>\n",
       "      <td>119.0</td>\n",
       "      <td>64.0</td>\n",
       "      <td>55.0</td>\n",
       "      <td>...</td>\n",
       "      <td>0</td>\n",
       "      <td>0</td>\n",
       "      <td>1</td>\n",
       "      <td>0</td>\n",
       "      <td>0</td>\n",
       "      <td>1</td>\n",
       "      <td>0</td>\n",
       "      <td>0</td>\n",
       "      <td>0</td>\n",
       "      <td>0</td>\n",
       "    </tr>\n",
       "  </tbody>\n",
       "</table>\n",
       "<p>5 rows × 261 columns</p>\n",
       "</div>"
      ],
      "text/plain": [
       "    Year  Runtime  Metascore  imdbRating  imdbVotes  tomatoMeter  \\\n",
       "12  2005     96.0        9.0         2.3    37613.0          1.0   \n",
       "20  2005     95.0       27.0         4.6    22611.0         11.0   \n",
       "26  2005    118.0       37.0         5.7    59443.0         30.0   \n",
       "27  2005    105.0       53.0         5.5    13197.0         37.0   \n",
       "28  2005    106.0       54.0         6.4     8427.0         54.0   \n",
       "\n",
       "    tomatoRating  tomatoReviews  tomatoFresh  tomatoRotten    ...      TV-PG  \\\n",
       "12           1.7          117.0          1.0         116.0    ...          0   \n",
       "20           3.3          116.0         13.0         103.0    ...          0   \n",
       "26           4.6          169.0         50.0         119.0    ...          0   \n",
       "27           5.3          115.0         43.0          72.0    ...          0   \n",
       "28           5.8          119.0         64.0          55.0    ...          0   \n",
       "\n",
       "    TV-G  PG  PG-13  UNRATED  G  NC-17  R  TV-14  NOT RATED  \n",
       "12     0   0      0        0  0      0  1      0          0  \n",
       "20     0   1      0        0  1      0  0      0          0  \n",
       "26     0   1      1        0  1      0  0      0          0  \n",
       "27     0   1      1        0  1      0  0      0          0  \n",
       "28     0   1      0        0  1      0  0      0          0  \n",
       "\n",
       "[5 rows x 261 columns]"
      ]
     },
     "execution_count": 95,
     "metadata": {},
     "output_type": "execute_result"
    }
   ],
   "source": [
    "X_new=X_new.loc[:,X_new.columns !='Unnamed: 0']\n",
    "#X=X.reset_index()\n",
    "#X=X.loc[:,X.columns !='index']\n",
    "X_new.head()"
   ]
  },
  {
   "cell_type": "code",
   "execution_count": 96,
   "metadata": {},
   "outputs": [
    {
     "data": {
      "text/plain": [
       "count    3.163000e+03\n",
       "mean     9.565995e+07\n",
       "std      1.795087e+08\n",
       "min      0.000000e+00\n",
       "25%      2.376027e+06\n",
       "50%      2.988264e+07\n",
       "75%      1.022844e+08\n",
       "max      2.783919e+09\n",
       "Name: Gross, dtype: float64"
      ]
     },
     "execution_count": 96,
     "metadata": {},
     "output_type": "execute_result"
    }
   ],
   "source": [
    "Y_new=movies_new['Gross']\n",
    "Y_new.head()\n",
    "Y_new.describe()"
   ]
  },
  {
   "cell_type": "code",
   "execution_count": 97,
   "metadata": {},
   "outputs": [
    {
     "name": "stdout",
     "output_type": "stream",
     "text": [
      "       Year  Runtime  Metascore  imdbRating  imdbVotes  tomatoMeter  \\\n",
      "38567  2013    104.0       61.0         5.8    29463.0         52.0   \n",
      "5215   2001    131.0       90.0         7.3    65087.0         86.0   \n",
      "38595  2013    107.0       67.0         6.7   310660.0         83.0   \n",
      "38645  2013    115.0       34.0         6.7    77832.0         12.0   \n",
      "39574  2007    102.0       61.0         6.7     2544.0         66.0   \n",
      "\n",
      "       tomatoRating  tomatoReviews  tomatoFresh  tomatoRotten    ...      \\\n",
      "38567           5.7          109.0         57.0          52.0    ...       \n",
      "5215            7.5          152.0        130.0          22.0    ...       \n",
      "38595           7.1          212.0        176.0          36.0    ...       \n",
      "38645           4.0          140.0         17.0         123.0    ...       \n",
      "39574           6.2           98.0         65.0          33.0    ...       \n",
      "\n",
      "       TV-PG  TV-G  PG  PG-13  UNRATED  G  NC-17  R  TV-14  NOT RATED  \n",
      "38567      0     0   0      0        0  0      0  1      0          0  \n",
      "5215       0     0   0      0        0  0      0  1      0          0  \n",
      "38595      0     0   0      0        0  0      0  1      0          0  \n",
      "38645      0     0   1      1        0  1      0  0      0          0  \n",
      "39574      0     0   1      1        0  1      0  0      0          0  \n",
      "\n",
      "[5 rows x 261 columns]\n",
      "38567      4128828.0\n",
      "5215      41300105.0\n",
      "38595    126539117.0\n",
      "38645     94050951.0\n",
      "39574      3838486.0\n",
      "Name: Gross, dtype: float64\n"
     ]
    }
   ],
   "source": [
    "from sklearn.cross_validation import train_test_split\n",
    "X_train_new, X_test_new, Y_train_new, Y_test_new = train_test_split(X_new, Y_new, test_size=0.2, random_state=45)\n",
    "print(X_train_new.head())\n",
    "print(Y_train_new.head())"
   ]
  },
  {
   "cell_type": "markdown",
   "metadata": {},
   "source": [
    "# Regression Model (2)"
   ]
  },
  {
   "cell_type": "code",
   "execution_count": 98,
   "metadata": {},
   "outputs": [
    {
     "name": "stdout",
     "output_type": "stream",
     "text": [
      "Linear Model: LinearRegression(copy_X=True, fit_intercept=True, n_jobs=1, normalize=True)\n",
      "coeffecients: [ -2.76886968e-27   2.79947240e+05   3.26964862e+04   7.21393394e+05\n",
      "  -3.79566800e+05   3.32091874e+05  -2.22639393e+06  -2.42938670e+06\n",
      "   9.68746123e+05   1.16339204e+06  -3.76106073e+05   4.53102830e+06\n",
      "  -6.92951398e-01   1.02743130e+05   2.27827779e+00   9.16147220e-45\n",
      "   6.18224415e+04   7.07597277e+06   0.00000000e+00   2.24367334e+07\n",
      "   4.35344446e+06  -1.17067498e+07   2.60010533e+07  -1.36271778e+07\n",
      "  -4.35335876e+06   1.50409539e+06  -2.30536671e+07   0.00000000e+00\n",
      "  -2.03979061e+07   3.06657343e+06  -3.62992362e+06   3.39714844e+07\n",
      "  -4.24780494e+06  -3.87430191e-07  -3.58507712e+06  -1.24709581e+07\n",
      "  -2.17700693e+05   3.57627869e-07   1.90309415e+07   9.69943849e+05\n",
      "   6.11467105e+06   5.24502271e+06   6.70876414e+06   4.04542588e+07\n",
      "  -2.63016400e+06   3.02141056e+06]\n",
      "Intercept: -61191254.2086\n"
     ]
    }
   ],
   "source": [
    "from sklearn.linear_model import LinearRegression\n",
    "model_linear_new=LinearRegression(normalize=True)\n",
    "model_linear_new.fit(X_train_new, Y_train_new)\n",
    "print(\"Linear Model:\", model_linear)\n",
    "print(\"coeffecients:\", model_linear.coef_)\n",
    "print(\"Intercept:\", model_linear.intercept_)"
   ]
  },
  {
   "cell_type": "code",
   "execution_count": 99,
   "metadata": {},
   "outputs": [
    {
     "name": "stdout",
     "output_type": "stream",
     "text": [
      "[  1.41099008e+08   1.65838848e+08   2.00507392e+08   5.56531712e+08\n",
      "  -2.88030720e+07   5.89824000e+06   4.60718080e+07   4.73432064e+08\n",
      "  -7.79878400e+06   1.21143296e+08   2.67714560e+07  -9.63379200e+06\n",
      "   2.34913792e+08  -1.23207680e+07  -2.31342080e+07  -4.06024075e+21\n",
      "   2.77577728e+08   9.01120000e+06   8.88012800e+06   8.82769920e+07\n",
      "  -3.63724800e+07   3.36560128e+08   6.88128000e+07   3.11361536e+08\n",
      "  -3.13589760e+07   6.75348480e+07   3.63724800e+06  -2.15285760e+07\n",
      "  -4.78412800e+06   1.69803776e+08   5.63150848e+08   5.99654400e+06\n",
      "   2.85081600e+06   4.39877632e+08   3.60448000e+05  -1.21241600e+07\n",
      "   4.56622080e+08  -1.84811520e+07   6.72727040e+07   2.31243776e+08\n",
      "  -3.13262080e+07   1.52371200e+08   3.14245120e+08   8.11335680e+07\n",
      "   4.08944640e+07   2.02833920e+07  -7.03696780e+21   1.77078272e+08\n",
      "   1.08068864e+08   4.07371776e+08   4.20741120e+07   3.51109120e+08\n",
      "   2.65420800e+06   1.04824832e+08   1.12132096e+08  -1.43196160e+07\n",
      "   1.34676480e+07  -3.23747840e+07   3.07200000e+08   1.57024256e+08\n",
      "   1.28516096e+08   8.91617280e+07   5.32480000e+07  -1.54992640e+07\n",
      "   6.55360000e+04   3.46095616e+08   2.96550400e+07  -8.84736000e+05\n",
      "  -9.53548800e+06   3.35544320e+07   2.88358400e+07   1.47390464e+08\n",
      "   1.66887424e+08   3.12705024e+08   1.43196160e+07  -1.90382080e+07\n",
      "   8.24770560e+08   3.49175808e+08   3.65658112e+08  -2.94912000e+05\n",
      "  -8.55244800e+06   7.30726400e+06   1.67444480e+07   6.78297600e+07\n",
      "   5.80712612e+21   1.63840000e+07   4.52198400e+07   1.72032000e+07\n",
      "   4.87915520e+07   1.69672704e+08   2.65256960e+08   3.07036160e+07\n",
      "  -2.59850240e+07   7.34691328e+08   2.13319680e+07   1.74194688e+08\n",
      "   4.44039168e+08   1.91561728e+08   4.13040640e+08   9.50272000e+06\n",
      "   1.16031488e+08   1.84483840e+07   2.49036800e+06   1.70065920e+08\n",
      "   2.62144000e+06  -2.44121600e+07  -3.98458880e+07  -2.16268800e+06\n",
      "   7.10737920e+07   2.21249536e+08  -1.49422080e+07  -2.07749120e+07\n",
      "   6.29800960e+07   1.77340416e+08   9.43390720e+07  -2.19545600e+06\n",
      "  -1.16326400e+07   3.62545152e+08  -3.40787200e+06   1.91135744e+08\n",
      "   7.32364800e+07   2.48053760e+08   9.71243520e+07   1.62201600e+07\n",
      "   6.30784000e+07   5.68426496e+08   1.13770496e+08  -2.35929600e+06\n",
      "   4.61045760e+07   1.09674496e+08   5.58039040e+07   2.62799360e+07\n",
      "   1.82190080e+07   6.20560384e+08   1.40640256e+08   4.19430400e+07\n",
      "  -8.61708906e+21   3.30301440e+07  -8.35584000e+06  -7.96262400e+06\n",
      "   2.50609664e+08   6.23247360e+07  -4.78412800e+06  -5.23632640e+07\n",
      "   2.59096576e+08   6.29145600e+07  -9.79763200e+06   4.75136000e+06\n",
      "   2.54935040e+08   9.20780800e+06   5.16423680e+07   4.12876800e+06\n",
      "  -8.58521600e+06   6.88128000e+05   3.95673600e+08   1.92937984e+08\n",
      "   2.65289728e+08  -1.21241600e+07   5.25139968e+08  -3.67001600e+06\n",
      "   4.18447360e+07   4.32537600e+06  -4.17136640e+07   1.79240960e+07\n",
      "   1.23174912e+08   9.59119360e+07  -3.51928320e+07   1.90283776e+08\n",
      "   4.28113920e+08   1.18161408e+08   1.88973056e+08   1.95952640e+07\n",
      "  -3.09657600e+07   6.81574400e+06   5.01972992e+08   1.13999872e+08\n",
      "  -4.35814400e+06   1.39034624e+08  -1.31072000e+06   3.03759360e+07\n",
      "   1.48799488e+08   6.65190400e+06  -3.32267520e+07  -1.11411200e+07\n",
      "   9.17504000e+05   2.08207872e+08   7.87742720e+07   7.93051136e+08\n",
      "   6.45529600e+06   4.69565440e+07  -3.65035520e+07   2.68763136e+08\n",
      "   1.23731968e+08  -1.37625600e+07  -1.64167680e+07   5.92773120e+07\n",
      "  -2.07093760e+07  -8.19200000e+05  -1.53681920e+07  -3.99769600e+06\n",
      "   1.80224000e+07   1.24518400e+07  -8.48691200e+06  -2.42483200e+07\n",
      "   9.73209600e+06   2.84327936e+08   1.15769344e+08  -1.73670400e+07\n",
      "   4.91847680e+07   3.39509248e+08   1.93855488e+08  -9.53548800e+06\n",
      "   8.78182400e+07  -1.82190080e+07   9.20780800e+06   6.26196480e+07\n",
      "   6.61913600e+06   2.90881536e+08   2.36322816e+08   1.84647680e+08\n",
      "  -1.17309440e+07  -1.59580160e+07   2.15941120e+08   1.01580800e+08\n",
      "   2.91766272e+08  -3.90266880e+07   9.89593600e+06   6.39303680e+07\n",
      "  -3.64380160e+07  -5.57056000e+05  -6.06208000e+06  -1.37625600e+07\n",
      "  -6.29145600e+06   1.16981760e+07   1.06921984e+08   4.99384320e+07\n",
      "  -2.31342080e+07   5.66886400e+06   2.39534080e+08  -7.14342400e+06\n",
      "   8.89978880e+07   6.84851200e+06  -2.35014232e+22   3.29383936e+08\n",
      "   2.99171840e+07   1.19603200e+07   2.76889600e+07   3.03431680e+07\n",
      "   1.17964800e+07   6.10467840e+07  -2.75251200e+06   1.52043520e+07\n",
      "   6.87407104e+08   9.59774720e+07  -6.55360000e+06   1.07544576e+08\n",
      "  -1.78585600e+07   7.34330880e+07   1.69738240e+07   4.46955520e+07\n",
      "   2.56507904e+08   3.60448000e+06  -3.25235061e+22   4.91192320e+07\n",
      "   1.38051584e+08   1.09838336e+08   2.27629428e+22  -1.88088320e+07\n",
      "   2.63127040e+07   3.57498880e+07   4.36994048e+08   1.13377280e+08\n",
      "   2.59522560e+07  -1.17309440e+07   4.84769792e+08   1.15703808e+08\n",
      "  -2.17579520e+07   5.36084480e+07   2.05783040e+07   4.52198400e+06\n",
      "   8.35878912e+08   6.40286720e+07   4.70253568e+08  -3.67656960e+07\n",
      "   3.68640000e+07   1.35790592e+08   1.68755200e+07   1.38608640e+08\n",
      "   1.91234048e+08  -4.78412800e+06   5.11180800e+07  -1.54009600e+06\n",
      "   4.09600000e+07   3.35216640e+08   1.28417792e+08  -2.67714560e+07\n",
      "   1.43196160e+07  -4.25656320e+07   1.60202752e+08  -1.59580160e+07\n",
      "   6.23902720e+07   1.90218240e+08   4.18840576e+08   4.89226240e+07\n",
      "  -6.16038400e+06   6.64862720e+07   4.58850304e+08   2.42384896e+08\n",
      "   9.86644480e+07   3.63200512e+08   1.32218880e+08   5.04627200e+07\n",
      "  -3.04742400e+06   2.84131328e+08  -1.15015680e+07   3.24075520e+07\n",
      "   8.11597824e+08  -2.00540160e+07   6.27507200e+07  -1.52698880e+07\n",
      "   4.91520000e+05  -2.82460160e+07   3.22109440e+07  -1.76947200e+07\n",
      "   9.69932800e+06   6.84851200e+06   2.63061504e+08  -2.75294758e+22\n",
      "   1.55451392e+08  -6.31767040e+07   8.09369600e+06  -3.89939200e+06\n",
      "  -4.30571520e+07   4.58096640e+07   1.02694912e+08   7.11065600e+06\n",
      "   1.10067712e+08   3.50617600e+07   4.17136640e+07  -6.12761600e+06\n",
      "  -1.70393600e+06   1.60235520e+08   2.01031680e+08  -9.10950400e+06\n",
      "   1.40050432e+08   1.01580800e+06   1.09117440e+07   2.35929600e+07\n",
      "   3.25058560e+07   1.50142976e+08  -1.89071360e+07   1.47193856e+08\n",
      "  -3.25058560e+07   1.88284928e+08   4.00097280e+07   1.87760640e+08\n",
      "   2.85409280e+07  -1.14360320e+07   3.68640000e+07  -3.25235061e+22\n",
      "  -1.89726720e+07   3.87973120e+07  -3.70933760e+07   7.47110400e+06\n",
      "   3.22437120e+07   7.96262400e+07  -6.81574400e+06  -2.48709120e+07\n",
      "  -2.28392960e+07   1.49749760e+07   4.22707200e+07  -3.53894400e+07\n",
      "   8.60160000e+07   8.38860800e+06   7.70048000e+06  -1.07151360e+07\n",
      "   2.02670080e+08  -2.22197351e+22  -2.64110080e+07   7.14342400e+06\n",
      "   9.99424000e+06   8.71628800e+06  -1.79896320e+07   1.13639424e+08\n",
      "  -3.80108800e+07   5.92773120e+07   1.45227776e+08  -2.31295286e+21\n",
      "   1.21700352e+08   1.82845440e+07   1.76291840e+07   4.47938560e+07\n",
      "   5.28285696e+08   7.65460480e+08   6.95009280e+07   7.05495040e+07\n",
      "   4.35159040e+07   2.09321984e+08  -6.09484800e+06  -3.74865920e+07\n",
      "   9.66656000e+07   3.03169536e+08   3.81799529e+22   8.48691200e+06\n",
      "   1.56631040e+07  -7.66771200e+06   1.76947200e+07   2.95993344e+08\n",
      "   3.12934400e+07   6.39795200e+08  -6.32422400e+06  -6.06863360e+07\n",
      "  -2.19217920e+07   7.56940800e+07  -7.47110400e+06   3.46357760e+07\n",
      "   2.46087680e+07   3.85613824e+08   3.27745536e+08  -2.91962880e+07\n",
      "   1.01253120e+07   7.45144320e+07   8.29685760e+07   1.36347648e+08\n",
      "   6.46184960e+07  -2.52313600e+06  -5.63609600e+06   2.78855680e+07\n",
      "   2.81149440e+07  -4.29588480e+07   9.03413760e+07  -1.03219200e+07\n",
      "   3.34135296e+08   6.22592000e+05  -3.50617600e+07   1.08134400e+07\n",
      "  -9.01120000e+06   5.07576320e+07   1.27696896e+08  -5.88840960e+07\n",
      "   2.19709440e+08   3.29089024e+08   2.29048320e+07  -1.46145280e+07\n",
      "  -1.96608000e+06   1.01482496e+08  -1.50405120e+07  -3.06708480e+07\n",
      "   3.44391680e+07   2.12992000e+06   5.14457600e+06   6.80263680e+07\n",
      "   3.67984640e+07  -3.21781760e+07  -1.73998080e+07   5.44604160e+07\n",
      "   1.06627072e+08   5.89561856e+08   2.10403328e+08   2.32718336e+08\n",
      "  -1.62855976e+22  -3.33578240e+07  -2.09387520e+07   1.52698880e+07\n",
      "  -2.45104640e+07   7.70736128e+08   1.96542464e+08   5.01022720e+07\n",
      "   5.33135360e+07  -9.66656000e+06   3.83385600e+06  -1.29105920e+07\n",
      "  -1.62856960e+07   1.15998720e+08   2.53423138e+22   3.67525888e+08\n",
      "  -8.19200000e+05   4.74152960e+07   3.08609024e+08  -9.04396800e+06\n",
      "  -8.48691200e+06   8.87357440e+07   7.05167360e+07   2.52542976e+08\n",
      "  -1.40902400e+07  -9.83040000e+04   4.18217984e+08   1.78552832e+08\n",
      "  -2.06766080e+07   6.59619840e+07  -8.19200000e+05  -2.32325120e+07\n",
      "   1.98246400e+07   3.12934400e+07   8.76544000e+07   1.65806080e+07\n",
      "   1.67116800e+06   4.55213056e+08   3.28335360e+07   3.92888320e+07\n",
      "   5.24288000e+05   3.45014272e+08  -8.91289600e+06   3.29646080e+07\n",
      "   9.64689920e+07   2.00867840e+07  -1.40247040e+07   1.92741376e+08\n",
      "   6.25868800e+07  -7.86432000e+06   1.51814144e+08   5.80321280e+07\n",
      "   7.58906880e+07   5.02988800e+07   2.52313600e+06  -2.61160960e+07\n",
      "   3.68640000e+07   2.34061824e+08   5.75733760e+07   4.75070464e+08\n",
      "   5.04219032e+21   2.34618880e+07   2.04144640e+07  -1.62529280e+07\n",
      "   6.09484800e+06  -1.84811520e+07  -3.25386240e+07  -9.27334400e+06\n",
      "   1.86777600e+06   1.07806720e+07   2.75709952e+08  -8.32307200e+06\n",
      "   8.09369600e+06   1.28679936e+08   1.54009600e+07  -5.04627200e+06\n",
      "   9.60102400e+06   8.62781440e+07   6.47823360e+07   2.27016704e+08\n",
      "   5.89824000e+05   2.60177920e+07   3.40459520e+07  -4.58752000e+06\n",
      "   5.62954240e+07  -2.14958080e+07   1.20258560e+07   5.19700480e+07\n",
      "   1.08462080e+07  -2.94912000e+06   2.96878080e+07   2.69785288e+22\n",
      "   6.47495680e+07   2.09715200e+06   1.13377280e+07   2.40844800e+07\n",
      "  -1.01580800e+06   1.22552320e+07  -4.12876800e+06   1.39591680e+07\n",
      "   9.88282880e+07   4.19430400e+06   7.30791936e+08   1.83500800e+06\n",
      "   2.96222720e+08   7.65132800e+07   2.12992000e+07   2.91962880e+07\n",
      "   2.94584320e+08   8.71628800e+06   1.18423552e+08  -3.67001600e+06\n",
      "  -4.77139592e+22  -1.09117440e+07   8.33617920e+07   5.97688320e+07\n",
      "   2.03358208e+08   1.45555456e+08   1.18226944e+08  -3.93216000e+06\n",
      "   2.34946560e+07  -1.56303360e+07  -1.37297920e+07   1.39919360e+07\n",
      "   6.06208000e+06   3.93216000e+07   5.89824000e+05   1.81534720e+07\n",
      "   1.57941760e+08   2.64339456e+08   1.30678784e+08  -1.31072000e+05\n",
      "  -4.00097280e+07  -4.09600000e+06  -1.23760300e+22   2.77348352e+08\n",
      "   5.93428480e+07   5.68295424e+08   5.91790080e+07   2.44776960e+07\n",
      "  -5.11180800e+06  -4.40401920e+07   5.99326720e+07   2.05258752e+08\n",
      "  -3.61103360e+07   8.11630592e+08   5.24943360e+07  -2.02586566e+22\n",
      "   9.22091520e+07   2.43302400e+08   7.68409600e+07   4.56785920e+07\n",
      "  -1.99884800e+07   3.51436800e+08   1.01253120e+08  -1.08134400e+07\n",
      "   9.06362880e+07   5.61643520e+07  -9.04396800e+06   4.62028800e+07\n",
      "   1.30908160e+08   4.98073600e+07   7.94296320e+07   8.68352000e+06\n",
      "   6.48478720e+07   2.79412736e+08  -8.19200000e+06   1.87301888e+08\n",
      "   9.56170240e+07   7.09099520e+07   6.85211648e+08  -6.12761600e+06\n",
      "   2.49397248e+08]\n"
     ]
    }
   ],
   "source": [
    "Y_predictions_new = model_linear_new.predict(X_test_new)\n",
    "print(Y_predictions_new)"
   ]
  },
  {
   "cell_type": "code",
   "execution_count": 100,
   "metadata": {},
   "outputs": [
    {
     "name": "stdout",
     "output_type": "stream",
     "text": [
      "R squared value: -7.03674670971e+26\n"
     ]
    }
   ],
   "source": [
    "print('R squared value:', model_linear_new.score(X_test_new, Y_test_new))"
   ]
  },
  {
   "cell_type": "code",
   "execution_count": 101,
   "metadata": {},
   "outputs": [
    {
     "name": "stdout",
     "output_type": "stream",
     "text": [
      "[1, 201, 401, 601, 801, 1001, 1201, 1401, 1601, 1801, 2001, 2201]\n",
      "<class 'list'>\n",
      "[1, 201, 401, 601, 801, 1001, 1201, 1401, 1601, 1801, 2001, 2201, 2530]\n"
     ]
    }
   ],
   "source": [
    "train_set_new=list(range(1,2400,200))\n",
    "print(train_set_new)\n",
    "print(type(train_set_new))\n",
    "train_set_new.append(2530)\n",
    "print(train_set_new)"
   ]
  },
  {
   "cell_type": "code",
   "execution_count": 102,
   "metadata": {},
   "outputs": [],
   "source": [
    "from sklearn.model_selection import learning_curve\n",
    "train_sizes, train_scores, validation_scores = learning_curve(\n",
    "                                                   estimator = LinearRegression(), X = X_new,\n",
    "                                                   y = Y_new, train_sizes = train_set_new, cv = 5,\n",
    "                                                   scoring = 'neg_mean_squared_error')"
   ]
  },
  {
   "cell_type": "code",
   "execution_count": 103,
   "metadata": {},
   "outputs": [
    {
     "name": "stdout",
     "output_type": "stream",
     "text": [
      "Mean training scores\n",
      "\n",
      " 1      -0.000000e+00\n",
      "201     2.069268e+15\n",
      "401     3.197537e+15\n",
      "601     1.916299e+15\n",
      "801     1.941894e+15\n",
      "1001    2.075689e+15\n",
      "1201    2.407512e+15\n",
      "1401    2.380968e+15\n",
      "1601    2.392271e+15\n",
      "1801    2.444623e+15\n",
      "2001    2.405431e+15\n",
      "2201    2.342157e+15\n",
      "2530    2.281224e+15\n",
      "dtype: float64\n",
      "\n",
      " ----------------------------------------\n",
      "\n",
      "Mean validation scores\n",
      "\n",
      " 1       7.098710e+16\n",
      "201     1.061657e+16\n",
      "401     7.734659e+15\n",
      "601     4.163076e+15\n",
      "801     3.483323e+15\n",
      "1001    3.337720e+15\n",
      "1201    3.298680e+15\n",
      "1401    3.118671e+15\n",
      "1601    3.138189e+15\n",
      "1801    3.116700e+15\n",
      "2001    3.084468e+15\n",
      "2201    3.019927e+15\n",
      "2530    2.937764e+15\n",
      "dtype: float64\n"
     ]
    }
   ],
   "source": [
    "train_scores_mean = -train_scores.mean(axis = 1)\n",
    "validation_scores_mean = -validation_scores.mean(axis = 1)\n",
    "\n",
    "print('Mean training scores\\n\\n', pd.Series(train_scores_mean, index = train_sizes))\n",
    "print('\\n', '-' * 40) # separator\n",
    "print('\\nMean validation scores\\n\\n',pd.Series(validation_scores_mean, index = train_sizes))"
   ]
  },
  {
   "cell_type": "code",
   "execution_count": 104,
   "metadata": {},
   "outputs": [
    {
     "data": {
      "image/png": "[encoded data removed]",
      "text/plain": [
       "<Figure size 576x396 with 1 Axes>"
      ]
     },
     "metadata": {},
     "output_type": "display_data"
    }
   ],
   "source": [
    "import matplotlib.pyplot as plt\n",
    "%matplotlib inline\n",
    "\n",
    "plt.style.use('seaborn')\n",
    "\n",
    "plt.plot(train_set_new, train_scores_mean, label = 'Training error')\n",
    "plt.plot(train_set_new, validation_scores_mean, label = 'Validation error')\n",
    "\n",
    "plt.ylabel('MSE', fontsize = 14)\n",
    "plt.xlabel('Training set size', fontsize = 14)\n",
    "plt.title('Learning curves for a linear regression model', fontsize = 18, y = 1.03)\n",
    "plt.legend()\n",
    "#plt.ylim(0,40)\n",
    "plt.show()"
   ]
  },
  {
   "cell_type": "code",
   "execution_count": 105,
   "metadata": {},
   "outputs": [
    {
     "data": {
      "image/png": "[encoded data removed]",
      "text/plain": [
       "<Figure size 576x396 with 1 Axes>"
      ]
     },
     "metadata": {},
     "output_type": "display_data"
    }
   ],
   "source": [
    "plt.plot(train_sizes,-validation_scores)\n",
    "plt.ylabel('validation Scores')\n",
    "plt.xlabel('Train/Test Size')\n",
    "plt.title(\"Validation Scores Vs Test/Train Split Size\")\n",
    "plt.show()"
   ]
  },
  {
   "cell_type": "markdown",
   "metadata": {},
   "source": [
    "# END"
   ]
  }
 ],
 "metadata": {
  "kernelspec": {
   "display_name": "Python 3",
   "language": "python",
   "name": "python3"
  },
  "language_info": {
   "codemirror_mode": {
    "name": "ipython",
    "version": 3
   },
   "file_extension": ".py",
   "mimetype": "text/x-python",
   "name": "python",
   "nbconvert_exporter": "python",
   "pygments_lexer": "ipython3",
   "version": "3.6.5"
  }
 },
 "nbformat": 4,
 "nbformat_minor": 2
}
